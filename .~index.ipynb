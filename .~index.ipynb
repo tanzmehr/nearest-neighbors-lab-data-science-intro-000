{
 "cells": [
  {
   "cell_type": "markdown",
   "metadata": {},
   "source": [
    "# Nearest Neighbors Lab"
   ]
  },
  {
   "cell_type": "markdown",
   "metadata": {},
   "source": [
    "### Introduction\n",
    "\n",
    "In this lab, you apply nearest neighbors technique to help a taxi company predict the length of their rides.  Imagine that we are hired to consult for LiftOff, a limo and taxi service that is just opening up in NYC.  Liftoff wants it's taxi drivers to target longer rides, as the longer the ride the more money it makes.  LiftOff has the following theory:\n",
    "\n",
    "* the pickup location of a taxi ride can help predict the length of the ride.  \n",
    "\n",
    "\n",
    "\n",
    "LiftOff asks us to do some analysis to write a function that will allow it to **predict the length of a taxi ride for any given location **.\n",
    "\n",
    "Our technique will be the following:\n",
    "  * **Collect** Obtain the data containing all of the taxi information, and only select the attributes of taxi trips that we need \n",
    "  * ** Explore ** Examine the attributes of our data, and plot some of our data on a map\n",
    "  * ** Train ** Write our nearest neighbors formula, and change the number of nearby trips to predict the length of a new trip\n",
    "  * ** Predict ** Use our function to predict trip lengths of new locations"
   ]
  },
  {
   "cell_type": "markdown",
   "metadata": {},
   "source": [
    "### Collect and Explore the data"
   ]
  },
  {
   "cell_type": "markdown",
   "metadata": {},
   "source": [
    "#### Collect the Data"
   ]
  },
  {
   "cell_type": "markdown",
   "metadata": {},
   "source": [
    "Luckily for us, [NYC Open Data](https://opendata.cityofnewyork.us/) collects information about NYC taxi trips and provides this data on [its website](https://data.cityofnewyork.us/Transportation/2014-Yellow-Taxi-Trip-Data/gn7m-em8n)."
   ]
  },
  {
   "cell_type": "markdown",
   "metadata": {},
   "source": [
    "![](./nyc-taxi.png)"
   ]
  },
  {
   "cell_type": "markdown",
   "metadata": {},
   "source": [
    "For your reading pleasure, the data has already been downloaded into the [trips.json](https://github.com/learn-co-curriculum/nearest-neighbors-lab/blob/master/trips.json) file in this lab which you can find here.  We'll use Python's `json` library to take the data from the `trips.json` file and store it as a variable in our notebook."
   ]
  },
  {
   "cell_type": "code",
   "execution_count": 1,
   "metadata": {},
   "outputs": [],
   "source": [
    "import json\n",
    "# First, read the file\n",
    "trips_file = open('trips.json')\n",
    "# Then, convert contents to list of dictionaries \n",
    "trips = json.load(trips_file)"
   ]
  },
  {
   "cell_type": "markdown",
   "metadata": {},
   "source": [
    "> Press shift + enter"
   ]
  },
  {
   "cell_type": "markdown",
   "metadata": {},
   "source": [
    "#### Explore the data"
   ]
  },
  {
   "cell_type": "markdown",
   "metadata": {},
   "source": [
    "The next step is to explore the data.  First, let's see how many trips we have."
   ]
  },
  {
   "cell_type": "code",
   "execution_count": 16,
   "metadata": {},
   "outputs": [
    {
     "data": {
      "text/plain": [
       "1000"
      ]
     },
     "execution_count": 16,
     "metadata": {},
     "output_type": "execute_result"
    }
   ],
   "source": [
    "len(trips)"
   ]
  },
  {
   "cell_type": "markdown",
   "metadata": {},
   "source": [
    "Not bad at all.  Now let's see what each individual trip looks like.  Each trip is a dictionary, so we can see the attributes of each trip with the `keys` function."
   ]
  },
  {
   "cell_type": "code",
   "execution_count": 73,
   "metadata": {
    "scrolled": true
   },
   "outputs": [
    {
     "data": {
      "text/plain": [
       "dict_keys(['dropoff_datetime', 'dropoff_latitude', 'dropoff_longitude', 'fare_amount', 'imp_surcharge', 'mta_tax', 'passenger_count', 'payment_type', 'pickup_datetime', 'pickup_latitude', 'pickup_longitude', 'rate_code', 'tip_amount', 'tolls_amount', 'total_amount', 'trip_distance', 'vendor_id'])"
      ]
     },
     "execution_count": 73,
     "metadata": {},
     "output_type": "execute_result"
    }
   ],
   "source": [
    "trips[0].keys()"
   ]
  },
  {
   "cell_type": "markdown",
   "metadata": {},
   "source": [
    "#### Limit our data"
   ]
  },
  {
   "cell_type": "markdown",
   "metadata": {},
   "source": [
    "Ok, now that we have explored some of our data, let's begin to think through what data is relevant for our task."
   ]
  },
  {
   "cell_type": "markdown",
   "metadata": {
    "collapsed": true
   },
   "source": [
    "Remember that our task is to **use the trip location to predict the length of a trip**.  So let's select the `pickup_latitude`, `pickup_longitude`, and `trip_distance` from each trip.  That will give us the trip location and related `trip_distance` for each trip.  Then based on these **actual** trip distances we can use nearest neighbors to predict an **expected** trip distance for a trip, provided an **actual** location."
   ]
  },
  {
   "cell_type": "markdown",
   "metadata": {},
   "source": [
    "** Add in about trip distance ** "
   ]
  },
  {
   "cell_type": "markdown",
   "metadata": {},
   "source": [
    "Write a function called `parse_trips(trips)` that returns a list of the trips with only the following attributes: \n",
    "* `trip_distance`\n",
    "* `pickup_latitude`\n",
    "* `pickup_longitude`"
   ]
  },
  {
   "cell_type": "code",
   "execution_count": 4,
   "metadata": {},
   "outputs": [],
   "source": [
    "def parse_trips(trips):\n",
    "    pt=[]\n",
    "    a='pickup_latitude'\n",
    "    b='pickup_longitude'\n",
    "    c='trip_distance'\n",
    "    for trip in trips:\n",
    "        pt.append({a:trip.get(a), b:trip.get(b), c:trip.get(c)})\n",
    "    return pt\n",
    "        "
   ]
  },
  {
   "cell_type": "code",
   "execution_count": 5,
   "metadata": {},
   "outputs": [
    {
     "data": {
      "text/plain": [
       "{'pickup_latitude': '40.64499',\n",
       " 'pickup_longitude': '-73.781149999999997',\n",
       " 'trip_distance': '18.379999999999999'}"
      ]
     },
     "execution_count": 5,
     "metadata": {},
     "output_type": "execute_result"
    }
   ],
   "source": [
    "parsed_trips = parse_trips(trips)\n",
    "parsed_trips and parsed_trips[0]\n",
    "\n",
    "# {'pickup_latitude': '40.64499',\n",
    "#  'pickup_longitude': '-73.78115',\n",
    "#  'trip_distance': '18.38'}"
   ]
  },
  {
   "cell_type": "markdown",
   "metadata": {},
   "source": [
    "Now, there's just one change to make.  If you look at one of the trips, all of the values are strings.  Let's change them to be floats."
   ]
  },
  {
   "cell_type": "code",
   "execution_count": 7,
   "metadata": {},
   "outputs": [],
   "source": [
    "def float_values(trips): \n",
    "    for trip in trips:\n",
    "        for key,value in trip.items():\n",
    "            trip[key]=float(value)\n",
    "    return trips"
   ]
  },
  {
   "cell_type": "code",
   "execution_count": 8,
   "metadata": {},
   "outputs": [],
   "source": [
    "cleaned_trips = float_values(parsed_trips)"
   ]
  },
  {
   "cell_type": "code",
   "execution_count": 9,
   "metadata": {},
   "outputs": [
    {
     "data": {
      "text/plain": [
       "{'pickup_latitude': 40.64499,\n",
       " 'pickup_longitude': -73.78115,\n",
       " 'trip_distance': 18.38}"
      ]
     },
     "execution_count": 9,
     "metadata": {},
     "output_type": "execute_result"
    }
   ],
   "source": [
    "cleaned_trips[0]\n",
    "\n",
    "# {'pickup_latitude': 40.64499,\n",
    "#  'pickup_longitude': -73.78115,\n",
    "#  'trip_distance': 18.38}"
   ]
  },
  {
   "cell_type": "markdown",
   "metadata": {},
   "source": [
    "### Exploring the Data"
   ]
  },
  {
   "cell_type": "markdown",
   "metadata": {},
   "source": [
    "Now that we have paired down our data, let's get a sense of our trip data.  We can use the `folium` Python library to plot a map of Manhattan, and our data.  First we must import `folium`, and then use the `Map` function to pass through a `location`, and `zoom_start`.  If a map isn't showing up below, copy and paste the command `pip install -r requirements.txt` into your terminal to install `folium` then try again."
   ]
  },
  {
   "cell_type": "code",
   "execution_count": 23,
   "metadata": {},
   "outputs": [],
   "source": [
    "import folium\n",
    "manhattan_map = folium.Map(location=[40.7589, -73.9851], zoom_start=11)"
   ]
  },
  {
   "cell_type": "code",
   "execution_count": 24,
   "metadata": {
    "scrolled": true
   },
   "outputs": [
    {
     "data": {
      "text/html": [
       "<div style=\"width:100%;\"><div style=\"position:relative;width:100%;height:0;padding-bottom:60%;\"><iframe src=\"data:text/html;charset=utf-8;base64,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\" style=\"position:absolute;width:100%;height:100%;left:0;top:0;border:none !important;\" allowfullscreen webkitallowfullscreen mozallowfullscreen></iframe></div></div>"
      ],
      "text/plain": [
       "<folium.folium.Map at 0x7f1f27a6d198>"
      ]
     },
     "execution_count": 24,
     "metadata": {},
     "output_type": "execute_result"
    }
   ],
   "source": [
    "manhattan_map"
   ]
  },
  {
   "cell_type": "markdown",
   "metadata": {},
   "source": [
    "Ok, now let's see how we could add a dot to mark a specific location.  We'll start with Times Square."
   ]
  },
  {
   "cell_type": "code",
   "execution_count": 25,
   "metadata": {},
   "outputs": [
    {
     "data": {
      "text/plain": [
       "<folium.vector_layers.CircleMarker at 0x7f1f279ac6d8>"
      ]
     },
     "execution_count": 25,
     "metadata": {},
     "output_type": "execute_result"
    }
   ],
   "source": [
    "marker = folium.CircleMarker(location = [40.7589, -73.9851], radius=10)\n",
    "marker.add_to(manhattan_map)"
   ]
  },
  {
   "cell_type": "markdown",
   "metadata": {},
   "source": [
    "Above, we first create a marker.  Then we add that circle marker to the `manhattan_map` we created earlier. "
   ]
  },
  {
   "cell_type": "code",
   "execution_count": 57,
   "metadata": {
    "scrolled": false
   },
   "outputs": [
    {
     "data": {
      "text/html": [
       "<div style=\"width:100%;\"><div style=\"position:relative;width:100%;height:0;padding-bottom:60%;\"><iframe src=\"data:text/html;charset=utf-8;base64,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\" style=\"position:absolute;width:100%;height:100%;left:0;top:0;border:none !important;\" allowfullscreen webkitallowfullscreen mozallowfullscreen></iframe></div></div>"
      ],
      "text/plain": [
       "<folium.folium.Map at 0x7f1f27a6d198>"
      ]
     },
     "execution_count": 57,
     "metadata": {},
     "output_type": "execute_result"
    }
   ],
   "source": [
    "manhattan_map"
   ]
  },
  {
   "cell_type": "markdown",
   "metadata": {},
   "source": [
    "Do you see that blue dot near Time's Square?  That is our marker.  \n",
    "\n",
    "So now that we can plot one marker on a map, we should have a sense of how we can plot many markers on a map to display our taxi ride data.  We simply plot a map, and then we add a marker for each location of a taxi trip.\n",
    "\n",
    "Now let's write some functions to allow us to plot maps and add markers a little more easily.  "
   ]
  },
  {
   "cell_type": "markdown",
   "metadata": {},
   "source": [
    "#### Writing some map plotting functions"
   ]
  },
  {
   "cell_type": "markdown",
   "metadata": {},
   "source": [
    "As a first step towards this, note that the functions to create both a marker and map each take in a location as two element list, representing the latitude and longitude values.  Take another look:\n",
    "\n",
    "```python\n",
    "marker = folium.CircleMarker(location = [40.7589, -73.9851])\n",
    "manhattan_map = folium.Map(location=[40.7589, -73.9851])\n",
    "```\n",
    "\n",
    "So let's write a function called to create this two element list from a trip.  Write a function called `location` that  takes in a trip as an argument and returns a list where the first element is the latitude and the second is the longitude.  Remember that a location looks like the following:"
   ]
  },
  {
   "cell_type": "code",
   "execution_count": 27,
   "metadata": {},
   "outputs": [
    {
     "data": {
      "text/plain": [
       "{'pickup_latitude': 40.64499,\n",
       " 'pickup_longitude': -73.78115,\n",
       " 'trip_distance': 18.38}"
      ]
     },
     "execution_count": 27,
     "metadata": {},
     "output_type": "execute_result"
    }
   ],
   "source": [
    "first_trip = {'pickup_latitude': 40.64499, 'pickup_longitude': -73.78115,  'trip_distance': 18.38}\n",
    "first_trip"
   ]
  },
  {
   "cell_type": "code",
   "execution_count": 28,
   "metadata": {},
   "outputs": [],
   "source": [
    "def location(trip):\n",
    "    return [trip.get(\"pickup_latitude\"),trip.get(\"pickup_longitude\")]"
   ]
  },
  {
   "cell_type": "code",
   "execution_count": 29,
   "metadata": {},
   "outputs": [
    {
     "data": {
      "text/plain": [
       "[40.64499, -73.78115]"
      ]
     },
     "execution_count": 29,
     "metadata": {},
     "output_type": "execute_result"
    }
   ],
   "source": [
    "first_location = location(first_trip) # [40.64499, -73.78115]\n",
    "first_location # [40.64499, -73.78115]"
   ]
  },
  {
   "cell_type": "markdown",
   "metadata": {},
   "source": [
    "Ok, now that we can turn a trip into a location, let's turn a location into a marker.  Write a function called `to_marker` that takes in a location (in the form of a list) as an argument, and returns a folium `circleMarker` for that location.  The radius of the marker should always equal 6."
   ]
  },
  {
   "cell_type": "code",
   "execution_count": 66,
   "metadata": {},
   "outputs": [],
   "source": [
    "def to_marker(coords):\n",
    "    return folium.CircleMarker(location=coords, radius=6)\n"
   ]
  },
  {
   "cell_type": "code",
   "execution_count": 87,
   "metadata": {},
   "outputs": [
    {
     "name": "stdout",
     "output_type": "stream",
     "text": [
      "[40.7589, -73.9851]\n",
      "6\n"
     ]
    }
   ],
   "source": [
    "import json\n",
    "times_square_marker = to_marker([40.7589, -73.9851])\n",
    "print(times_square_marker.location) # [40.7589, -73.9851])\n",
    "#times_square_marker and json.loads(times_square_marker.options)['radius'] # 6\n",
    "print(times_square_marker.options['radius']) # 6"
   ]
  },
  {
   "cell_type": "markdown",
   "metadata": {},
   "source": [
    "Ok, now that we know how to produce a single marker, let's write a function to produce lots.  We can write a function called `markers_from_trips` that takes in a list of trips, and returns a marker object for each trip.  "
   ]
  },
  {
   "cell_type": "code",
   "execution_count": 88,
   "metadata": {},
   "outputs": [],
   "source": [
    "def markers_from_trips(trips):\n",
    "    markers=[]\n",
    "    for trip in trips:\n",
    "        markers.append(to_marker([trip.get(\"pickup_latitude\"),trip.get(\"pickup_longitude\")]))\n",
    "    return markers"
   ]
  },
  {
   "cell_type": "code",
   "execution_count": 69,
   "metadata": {},
   "outputs": [],
   "source": [
    "trip_markers = markers_from_trips(cleaned_trips)"
   ]
  },
  {
   "cell_type": "code",
   "execution_count": 70,
   "metadata": {},
   "outputs": [
    {
     "data": {
      "text/plain": [
       "[{'pickup_latitude': 40.64499,\n",
       "  'pickup_longitude': -73.78115,\n",
       "  'trip_distance': 18.38},\n",
       " {'pickup_latitude': 40.766931,\n",
       "  'pickup_longitude': -73.982098,\n",
       "  'trip_distance': 1.3},\n",
       " {'pickup_latitude': 40.77773,\n",
       "  'pickup_longitude': -73.951902,\n",
       "  'trip_distance': 4.5},\n",
       " {'pickup_latitude': 40.795678,\n",
       "  'pickup_longitude': -73.971049,\n",
       "  'trip_distance': 2.4}]"
      ]
     },
     "execution_count": 70,
     "metadata": {},
     "output_type": "execute_result"
    }
   ],
   "source": [
    "cleaned_trips[0:4]"
   ]
  },
  {
   "cell_type": "code",
   "execution_count": 72,
   "metadata": {},
   "outputs": [
    {
     "name": "stdout",
     "output_type": "stream",
     "text": [
      "1000\n"
     ]
    },
    {
     "data": {
      "text/plain": [
       "[[40.64499, -73.78115],\n",
       " [40.766931, -73.982098],\n",
       " [40.77773, -73.951902],\n",
       " [40.795678, -73.971049]]"
      ]
     },
     "execution_count": 72,
     "metadata": {},
     "output_type": "execute_result"
    }
   ],
   "source": [
    "print(trip_markers and len(trip_markers)) # 1000\n",
    "\n",
    "list(map(lambda marker: marker.location, trip_markers[0:4]))\n",
    "# [[40.64499, -73.78115],\n",
    "#  [40.766931, -73.982098],\n",
    "#  [40.77773, -73.951902],\n",
    "#  [40.795678, -73.971049]]"
   ]
  },
  {
   "cell_type": "markdown",
   "metadata": {},
   "source": [
    "Ok, now that we have a function that creates locations, and a function that creates markers, it is time to write a function to plot a map. \n",
    "\n",
    "Write a function called `map_from` that, provided the first argument of a list location and second argument an integer representing the `zoom_start`, returns a `folium` map the corresponding location and `zoom_start` attributes.\n",
    "\n",
    "> Hint: The following is how to write a map with folium:\n",
    "> ```python \n",
    "    folium.Map(location=location, zoom_start=zoom_amount)\n",
    "> ```"
   ]
  },
  {
   "cell_type": "raw",
   "metadata": {},
   "source": [
    "def map_from(location, zoom_amount):\n",
    "    return folium.Map(location=location, zoom_start=zoom_amount)"
   ]
  },
  {
   "cell_type": "code",
   "execution_count": 73,
   "metadata": {},
   "outputs": [],
   "source": [
    "def map_from(location, zoom_amount):\n",
    "    return folium.Map(location=location, zoom_start=zoom_amount)"
   ]
  },
  {
   "cell_type": "code",
   "execution_count": 96,
   "metadata": {},
   "outputs": [
    {
     "data": {
      "text/plain": [
       "[40.7589, -73.9851]"
      ]
     },
     "execution_count": 96,
     "metadata": {},
     "output_type": "execute_result"
    }
   ],
   "source": [
    "times_square_map = map_from([40.7589, -73.9851], 15)\n",
    "times_square_map and times_square_map.location # [40.7589, -73.9851]\n",
    "#times_square_map and times_square_map.zoom_start # 15"
   ]
  },
  {
   "cell_type": "code",
   "execution_count": 97,
   "metadata": {
    "scrolled": true
   },
   "outputs": [
    {
     "data": {
      "text/html": [
       "<div style=\"width:100%;\"><div style=\"position:relative;width:100%;height:0;padding-bottom:60%;\"><iframe src=\"data:text/html;charset=utf-8;base64,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\" style=\"position:absolute;width:100%;height:100%;left:0;top:0;border:none !important;\" allowfullscreen webkitallowfullscreen mozallowfullscreen></iframe></div></div>"
      ],
      "text/plain": [
       "<folium.folium.Map at 0x7f1f27847c18>"
      ]
     },
     "execution_count": 97,
     "metadata": {},
     "output_type": "execute_result"
    }
   ],
   "source": [
    "times_square_marker and times_square_marker.add_to(times_square_map)\n",
    "times_square_map"
   ]
  },
  {
   "cell_type": "markdown",
   "metadata": {},
   "source": [
    "Now that we have a marker and a map, now let's write a function that adds a lot of markers to a map.  This function should add each marker in the list to the map object then return the updated map object."
   ]
  },
  {
   "cell_type": "code",
   "execution_count": 99,
   "metadata": {},
   "outputs": [],
   "source": [
    "manhattan_map = map_from([40.7589, -73.9851], 13)"
   ]
  },
  {
   "cell_type": "code",
   "execution_count": 119,
   "metadata": {},
   "outputs": [],
   "source": [
    "def add_markers(markers, map_obj):\n",
    "    for marker in markers:\n",
    "        print(marker)f\n",
    "        #marker.addto(map_obj)\n",
    "    return map_obj"
   ]
  },
  {
   "cell_type": "code",
   "execution_count": 120,
   "metadata": {
    "scrolled": false
   },
   "outputs": [
    {
     "name": "stdout",
     "output_type": "stream",
     "text": [
      "<folium.vector_layers.CircleMarker object at 0x7f1f278f6da0>\n",
      "<folium.vector_layers.CircleMarker object at 0x7f1f278f6f98>\n",
      "<folium.vector_layers.CircleMarker object at 0x7f1f278f69b0>\n",
      "<folium.vector_layers.CircleMarker object at 0x7f1f278f6d68>\n",
      "<folium.vector_layers.CircleMarker object at 0x7f1f278f6fd0>\n",
      "<folium.vector_layers.CircleMarker object at 0x7f1f278f6c50>\n",
      "<folium.vector_layers.CircleMarker object at 0x7f1f278f62e8>\n",
      "<folium.vector_layers.CircleMarker object at 0x7f1f278f6ac8>\n",
      "<folium.vector_layers.CircleMarker object at 0x7f1f278f60b8>\n",
      "<folium.vector_layers.CircleMarker object at 0x7f1f278f6c18>\n",
      "<folium.vector_layers.CircleMarker object at 0x7f1f278f6e80>\n",
      "<folium.vector_layers.CircleMarker object at 0x7f1f278f65c0>\n",
      "<folium.vector_layers.CircleMarker object at 0x7f1f278f69e8>\n",
      "<folium.vector_layers.CircleMarker object at 0x7f1f278f6e10>\n",
      "<folium.vector_layers.CircleMarker object at 0x7f1f278e8a58>\n",
      "<folium.vector_layers.CircleMarker object at 0x7f1f278e8a20>\n",
      "<folium.vector_layers.CircleMarker object at 0x7f1f27901080>\n",
      "<folium.vector_layers.CircleMarker object at 0x7f1f279010b8>\n",
      "<folium.vector_layers.CircleMarker object at 0x7f1f279010f0>\n",
      "<folium.vector_layers.CircleMarker object at 0x7f1f27901128>\n",
      "<folium.vector_layers.CircleMarker object at 0x7f1f27901160>\n",
      "<folium.vector_layers.CircleMarker object at 0x7f1f27901198>\n",
      "<folium.vector_layers.CircleMarker object at 0x7f1f279011d0>\n",
      "<folium.vector_layers.CircleMarker object at 0x7f1f27901208>\n",
      "<folium.vector_layers.CircleMarker object at 0x7f1f27901240>\n",
      "<folium.vector_layers.CircleMarker object at 0x7f1f27901278>\n",
      "<folium.vector_layers.CircleMarker object at 0x7f1f279012b0>\n",
      "<folium.vector_layers.CircleMarker object at 0x7f1f279012e8>\n",
      "<folium.vector_layers.CircleMarker object at 0x7f1f27901320>\n",
      "<folium.vector_layers.CircleMarker object at 0x7f1f27901358>\n",
      "<folium.vector_layers.CircleMarker object at 0x7f1f27901390>\n",
      "<folium.vector_layers.CircleMarker object at 0x7f1f279013c8>\n",
      "<folium.vector_layers.CircleMarker object at 0x7f1f27901400>\n",
      "<folium.vector_layers.CircleMarker object at 0x7f1f27901438>\n",
      "<folium.vector_layers.CircleMarker object at 0x7f1f27901470>\n",
      "<folium.vector_layers.CircleMarker object at 0x7f1f279014a8>\n",
      "<folium.vector_layers.CircleMarker object at 0x7f1f279014e0>\n",
      "<folium.vector_layers.CircleMarker object at 0x7f1f27901518>\n",
      "<folium.vector_layers.CircleMarker object at 0x7f1f27901550>\n",
      "<folium.vector_layers.CircleMarker object at 0x7f1f27901588>\n",
      "<folium.vector_layers.CircleMarker object at 0x7f1f279015c0>\n",
      "<folium.vector_layers.CircleMarker object at 0x7f1f279015f8>\n",
      "<folium.vector_layers.CircleMarker object at 0x7f1f27901630>\n",
      "<folium.vector_layers.CircleMarker object at 0x7f1f27901668>\n",
      "<folium.vector_layers.CircleMarker object at 0x7f1f279016a0>\n",
      "<folium.vector_layers.CircleMarker object at 0x7f1f279016d8>\n",
      "<folium.vector_layers.CircleMarker object at 0x7f1f27901710>\n",
      "<folium.vector_layers.CircleMarker object at 0x7f1f27901748>\n",
      "<folium.vector_layers.CircleMarker object at 0x7f1f27901780>\n",
      "<folium.vector_layers.CircleMarker object at 0x7f1f279017b8>\n",
      "<folium.vector_layers.CircleMarker object at 0x7f1f279017f0>\n",
      "<folium.vector_layers.CircleMarker object at 0x7f1f27901828>\n",
      "<folium.vector_layers.CircleMarker object at 0x7f1f27901860>\n",
      "<folium.vector_layers.CircleMarker object at 0x7f1f27901898>\n",
      "<folium.vector_layers.CircleMarker object at 0x7f1f279018d0>\n",
      "<folium.vector_layers.CircleMarker object at 0x7f1f27901908>\n",
      "<folium.vector_layers.CircleMarker object at 0x7f1f27901940>\n",
      "<folium.vector_layers.CircleMarker object at 0x7f1f27901978>\n",
      "<folium.vector_layers.CircleMarker object at 0x7f1f279019b0>\n",
      "<folium.vector_layers.CircleMarker object at 0x7f1f279019e8>\n",
      "<folium.vector_layers.CircleMarker object at 0x7f1f27901a20>\n",
      "<folium.vector_layers.CircleMarker object at 0x7f1f27901a58>\n",
      "<folium.vector_layers.CircleMarker object at 0x7f1f27901a90>\n",
      "<folium.vector_layers.CircleMarker object at 0x7f1f27901ac8>\n",
      "<folium.vector_layers.CircleMarker object at 0x7f1f27901b00>\n",
      "<folium.vector_layers.CircleMarker object at 0x7f1f27901b38>\n",
      "<folium.vector_layers.CircleMarker object at 0x7f1f27901b70>\n",
      "<folium.vector_layers.CircleMarker object at 0x7f1f27901ba8>\n",
      "<folium.vector_layers.CircleMarker object at 0x7f1f27901be0>\n",
      "<folium.vector_layers.CircleMarker object at 0x7f1f27901c18>\n",
      "<folium.vector_layers.CircleMarker object at 0x7f1f27901c50>\n",
      "<folium.vector_layers.CircleMarker object at 0x7f1f27901c88>\n",
      "<folium.vector_layers.CircleMarker object at 0x7f1f27901cc0>\n",
      "<folium.vector_layers.CircleMarker object at 0x7f1f27901cf8>\n",
      "<folium.vector_layers.CircleMarker object at 0x7f1f27901d30>\n",
      "<folium.vector_layers.CircleMarker object at 0x7f1f27901d68>\n",
      "<folium.vector_layers.CircleMarker object at 0x7f1f27901da0>\n",
      "<folium.vector_layers.CircleMarker object at 0x7f1f27901dd8>\n",
      "<folium.vector_layers.CircleMarker object at 0x7f1f27901e10>\n",
      "<folium.vector_layers.CircleMarker object at 0x7f1f27901e48>\n",
      "<folium.vector_layers.CircleMarker object at 0x7f1f27901e80>\n",
      "<folium.vector_layers.CircleMarker object at 0x7f1f27901eb8>\n",
      "<folium.vector_layers.CircleMarker object at 0x7f1f27901ef0>\n",
      "<folium.vector_layers.CircleMarker object at 0x7f1f27901f28>\n",
      "<folium.vector_layers.CircleMarker object at 0x7f1f27901f60>\n",
      "<folium.vector_layers.CircleMarker object at 0x7f1f27901f98>\n",
      "<folium.vector_layers.CircleMarker object at 0x7f1f27901fd0>\n",
      "<folium.vector_layers.CircleMarker object at 0x7f1f27901048>\n",
      "<folium.vector_layers.CircleMarker object at 0x7f1f27913080>\n",
      "<folium.vector_layers.CircleMarker object at 0x7f1f279130b8>\n",
      "<folium.vector_layers.CircleMarker object at 0x7f1f279130f0>\n",
      "<folium.vector_layers.CircleMarker object at 0x7f1f27913128>\n",
      "<folium.vector_layers.CircleMarker object at 0x7f1f27913160>\n",
      "<folium.vector_layers.CircleMarker object at 0x7f1f27913198>\n",
      "<folium.vector_layers.CircleMarker object at 0x7f1f279131d0>\n",
      "<folium.vector_layers.CircleMarker object at 0x7f1f27913208>\n",
      "<folium.vector_layers.CircleMarker object at 0x7f1f27913240>\n",
      "<folium.vector_layers.CircleMarker object at 0x7f1f27913278>\n",
      "<folium.vector_layers.CircleMarker object at 0x7f1f279132b0>\n",
      "<folium.vector_layers.CircleMarker object at 0x7f1f279132e8>\n",
      "<folium.vector_layers.CircleMarker object at 0x7f1f27913320>\n",
      "<folium.vector_layers.CircleMarker object at 0x7f1f27913358>\n",
      "<folium.vector_layers.CircleMarker object at 0x7f1f27913390>\n",
      "<folium.vector_layers.CircleMarker object at 0x7f1f279133c8>\n",
      "<folium.vector_layers.CircleMarker object at 0x7f1f27913400>\n",
      "<folium.vector_layers.CircleMarker object at 0x7f1f27913438>\n",
      "<folium.vector_layers.CircleMarker object at 0x7f1f27913470>\n",
      "<folium.vector_layers.CircleMarker object at 0x7f1f279134a8>\n",
      "<folium.vector_layers.CircleMarker object at 0x7f1f279134e0>\n",
      "<folium.vector_layers.CircleMarker object at 0x7f1f27913518>\n",
      "<folium.vector_layers.CircleMarker object at 0x7f1f27913550>\n",
      "<folium.vector_layers.CircleMarker object at 0x7f1f27913588>\n",
      "<folium.vector_layers.CircleMarker object at 0x7f1f279135c0>\n",
      "<folium.vector_layers.CircleMarker object at 0x7f1f279135f8>\n",
      "<folium.vector_layers.CircleMarker object at 0x7f1f27913630>\n",
      "<folium.vector_layers.CircleMarker object at 0x7f1f27913668>\n",
      "<folium.vector_layers.CircleMarker object at 0x7f1f279136a0>\n",
      "<folium.vector_layers.CircleMarker object at 0x7f1f279136d8>\n",
      "<folium.vector_layers.CircleMarker object at 0x7f1f27913710>\n",
      "<folium.vector_layers.CircleMarker object at 0x7f1f27913748>\n",
      "<folium.vector_layers.CircleMarker object at 0x7f1f27913780>\n",
      "<folium.vector_layers.CircleMarker object at 0x7f1f279137b8>\n",
      "<folium.vector_layers.CircleMarker object at 0x7f1f279137f0>\n",
      "<folium.vector_layers.CircleMarker object at 0x7f1f27913828>\n",
      "<folium.vector_layers.CircleMarker object at 0x7f1f27913860>\n",
      "<folium.vector_layers.CircleMarker object at 0x7f1f27913898>\n",
      "<folium.vector_layers.CircleMarker object at 0x7f1f279138d0>\n",
      "<folium.vector_layers.CircleMarker object at 0x7f1f27913908>\n",
      "<folium.vector_layers.CircleMarker object at 0x7f1f27913940>\n",
      "<folium.vector_layers.CircleMarker object at 0x7f1f27913978>\n",
      "<folium.vector_layers.CircleMarker object at 0x7f1f279139b0>\n",
      "<folium.vector_layers.CircleMarker object at 0x7f1f279139e8>\n",
      "<folium.vector_layers.CircleMarker object at 0x7f1f278f6470>\n",
      "<folium.vector_layers.CircleMarker object at 0x7f1f278f6be0>\n",
      "<folium.vector_layers.CircleMarker object at 0x7f1f278f6668>\n",
      "<folium.vector_layers.CircleMarker object at 0x7f1f278e8940>\n",
      "<folium.vector_layers.CircleMarker object at 0x7f1f278e8080>\n",
      "<folium.vector_layers.CircleMarker object at 0x7f1f278e86d8>\n",
      "<folium.vector_layers.CircleMarker object at 0x7f1f279ac908>\n",
      "<folium.vector_layers.CircleMarker object at 0x7f1f279ac2e8>\n",
      "<folium.vector_layers.CircleMarker object at 0x7f1f27913a20>\n",
      "<folium.vector_layers.CircleMarker object at 0x7f1f27913a58>\n",
      "<folium.vector_layers.CircleMarker object at 0x7f1f27913a90>\n",
      "<folium.vector_layers.CircleMarker object at 0x7f1f27913ac8>\n",
      "<folium.vector_layers.CircleMarker object at 0x7f1f27913b00>\n",
      "<folium.vector_layers.CircleMarker object at 0x7f1f27913b38>\n",
      "<folium.vector_layers.CircleMarker object at 0x7f1f27913b70>\n",
      "<folium.vector_layers.CircleMarker object at 0x7f1f27913ba8>\n",
      "<folium.vector_layers.CircleMarker object at 0x7f1f27913be0>\n",
      "<folium.vector_layers.CircleMarker object at 0x7f1f27913c18>\n",
      "<folium.vector_layers.CircleMarker object at 0x7f1f27913c50>\n",
      "<folium.vector_layers.CircleMarker object at 0x7f1f27913c88>\n",
      "<folium.vector_layers.CircleMarker object at 0x7f1f27913cc0>\n",
      "<folium.vector_layers.CircleMarker object at 0x7f1f27913cf8>\n",
      "<folium.vector_layers.CircleMarker object at 0x7f1f27913d30>\n",
      "<folium.vector_layers.CircleMarker object at 0x7f1f27913d68>\n",
      "<folium.vector_layers.CircleMarker object at 0x7f1f27913da0>\n",
      "<folium.vector_layers.CircleMarker object at 0x7f1f27913dd8>\n",
      "<folium.vector_layers.CircleMarker object at 0x7f1f27913e10>\n",
      "<folium.vector_layers.CircleMarker object at 0x7f1f27913e48>\n",
      "<folium.vector_layers.CircleMarker object at 0x7f1f27913e80>\n",
      "<folium.vector_layers.CircleMarker object at 0x7f1f27913eb8>\n",
      "<folium.vector_layers.CircleMarker object at 0x7f1f27913ef0>\n",
      "<folium.vector_layers.CircleMarker object at 0x7f1f27913f28>\n",
      "<folium.vector_layers.CircleMarker object at 0x7f1f27913f60>\n",
      "<folium.vector_layers.CircleMarker object at 0x7f1f27913f98>\n",
      "<folium.vector_layers.CircleMarker object at 0x7f1f27913fd0>\n",
      "<folium.vector_layers.CircleMarker object at 0x7f1f27913048>\n",
      "<folium.vector_layers.CircleMarker object at 0x7f1f278a1080>\n",
      "<folium.vector_layers.CircleMarker object at 0x7f1f278a10b8>\n",
      "<folium.vector_layers.CircleMarker object at 0x7f1f278a10f0>\n",
      "<folium.vector_layers.CircleMarker object at 0x7f1f278a1128>\n",
      "<folium.vector_layers.CircleMarker object at 0x7f1f278a1160>\n",
      "<folium.vector_layers.CircleMarker object at 0x7f1f278a1198>\n",
      "<folium.vector_layers.CircleMarker object at 0x7f1f278a11d0>\n",
      "<folium.vector_layers.CircleMarker object at 0x7f1f278a1208>\n",
      "<folium.vector_layers.CircleMarker object at 0x7f1f278a1240>\n",
      "<folium.vector_layers.CircleMarker object at 0x7f1f278a1278>\n",
      "<folium.vector_layers.CircleMarker object at 0x7f1f278a12b0>\n",
      "<folium.vector_layers.CircleMarker object at 0x7f1f278a12e8>\n",
      "<folium.vector_layers.CircleMarker object at 0x7f1f278a1320>\n",
      "<folium.vector_layers.CircleMarker object at 0x7f1f278a1358>\n",
      "<folium.vector_layers.CircleMarker object at 0x7f1f278a1390>\n",
      "<folium.vector_layers.CircleMarker object at 0x7f1f278a13c8>\n",
      "<folium.vector_layers.CircleMarker object at 0x7f1f278a1400>\n",
      "<folium.vector_layers.CircleMarker object at 0x7f1f278a1438>\n",
      "<folium.vector_layers.CircleMarker object at 0x7f1f278a1470>\n",
      "<folium.vector_layers.CircleMarker object at 0x7f1f278a14a8>\n",
      "<folium.vector_layers.CircleMarker object at 0x7f1f278a14e0>\n",
      "<folium.vector_layers.CircleMarker object at 0x7f1f278a1518>\n",
      "<folium.vector_layers.CircleMarker object at 0x7f1f278a1550>\n",
      "<folium.vector_layers.CircleMarker object at 0x7f1f278a1588>\n",
      "<folium.vector_layers.CircleMarker object at 0x7f1f278a15c0>\n",
      "<folium.vector_layers.CircleMarker object at 0x7f1f278a15f8>\n",
      "<folium.vector_layers.CircleMarker object at 0x7f1f278a1630>\n",
      "<folium.vector_layers.CircleMarker object at 0x7f1f278a1668>\n",
      "<folium.vector_layers.CircleMarker object at 0x7f1f278a16a0>\n",
      "<folium.vector_layers.CircleMarker object at 0x7f1f278a16d8>\n",
      "<folium.vector_layers.CircleMarker object at 0x7f1f278a1710>\n",
      "<folium.vector_layers.CircleMarker object at 0x7f1f278a1748>\n",
      "<folium.vector_layers.CircleMarker object at 0x7f1f278a1780>\n",
      "<folium.vector_layers.CircleMarker object at 0x7f1f278a17b8>\n",
      "<folium.vector_layers.CircleMarker object at 0x7f1f278a17f0>\n",
      "<folium.vector_layers.CircleMarker object at 0x7f1f278a1828>\n",
      "<folium.vector_layers.CircleMarker object at 0x7f1f278a1860>\n",
      "<folium.vector_layers.CircleMarker object at 0x7f1f278a1898>\n",
      "<folium.vector_layers.CircleMarker object at 0x7f1f278a18d0>\n",
      "<folium.vector_layers.CircleMarker object at 0x7f1f278a1908>\n",
      "<folium.vector_layers.CircleMarker object at 0x7f1f278a1940>\n",
      "<folium.vector_layers.CircleMarker object at 0x7f1f278a1978>\n",
      "<folium.vector_layers.CircleMarker object at 0x7f1f278a19b0>\n",
      "<folium.vector_layers.CircleMarker object at 0x7f1f278a19e8>\n",
      "<folium.vector_layers.CircleMarker object at 0x7f1f278a1a20>\n",
      "<folium.vector_layers.CircleMarker object at 0x7f1f278a1a58>\n",
      "<folium.vector_layers.CircleMarker object at 0x7f1f278a1a90>\n",
      "<folium.vector_layers.CircleMarker object at 0x7f1f278a1ac8>\n",
      "<folium.vector_layers.CircleMarker object at 0x7f1f278a1b00>\n",
      "<folium.vector_layers.CircleMarker object at 0x7f1f278a1b38>\n",
      "<folium.vector_layers.CircleMarker object at 0x7f1f278a1b70>\n",
      "<folium.vector_layers.CircleMarker object at 0x7f1f278a1ba8>\n",
      "<folium.vector_layers.CircleMarker object at 0x7f1f278a1be0>\n",
      "<folium.vector_layers.CircleMarker object at 0x7f1f278a1c18>\n",
      "<folium.vector_layers.CircleMarker object at 0x7f1f278a1c50>\n",
      "<folium.vector_layers.CircleMarker object at 0x7f1f278a1c88>\n",
      "<folium.vector_layers.CircleMarker object at 0x7f1f278a1cc0>\n",
      "<folium.vector_layers.CircleMarker object at 0x7f1f278a1cf8>\n",
      "<folium.vector_layers.CircleMarker object at 0x7f1f278a1d30>\n",
      "<folium.vector_layers.CircleMarker object at 0x7f1f278a1d68>\n",
      "<folium.vector_layers.CircleMarker object at 0x7f1f278a1da0>\n",
      "<folium.vector_layers.CircleMarker object at 0x7f1f278a1dd8>\n",
      "<folium.vector_layers.CircleMarker object at 0x7f1f278a1e10>\n",
      "<folium.vector_layers.CircleMarker object at 0x7f1f278a1e48>\n",
      "<folium.vector_layers.CircleMarker object at 0x7f1f278a1e80>\n",
      "<folium.vector_layers.CircleMarker object at 0x7f1f278a1eb8>\n",
      "<folium.vector_layers.CircleMarker object at 0x7f1f278a1ef0>\n",
      "<folium.vector_layers.CircleMarker object at 0x7f1f278a1f28>\n",
      "<folium.vector_layers.CircleMarker object at 0x7f1f278a1f60>\n",
      "<folium.vector_layers.CircleMarker object at 0x7f1f278a1f98>\n",
      "<folium.vector_layers.CircleMarker object at 0x7f1f278a1fd0>\n",
      "<folium.vector_layers.CircleMarker object at 0x7f1f278a1048>\n",
      "<folium.vector_layers.CircleMarker object at 0x7f1f278b0048>\n",
      "<folium.vector_layers.CircleMarker object at 0x7f1f278b00b8>\n",
      "<folium.vector_layers.CircleMarker object at 0x7f1f278b00f0>\n",
      "<folium.vector_layers.CircleMarker object at 0x7f1f278b0128>\n",
      "<folium.vector_layers.CircleMarker object at 0x7f1f278b0160>\n",
      "<folium.vector_layers.CircleMarker object at 0x7f1f278b0198>\n",
      "<folium.vector_layers.CircleMarker object at 0x7f1f278b01d0>\n",
      "<folium.vector_layers.CircleMarker object at 0x7f1f278b0208>\n",
      "<folium.vector_layers.CircleMarker object at 0x7f1f278b0240>\n",
      "<folium.vector_layers.CircleMarker object at 0x7f1f278b0278>\n",
      "<folium.vector_layers.CircleMarker object at 0x7f1f278b02b0>\n",
      "<folium.vector_layers.CircleMarker object at 0x7f1f278b02e8>\n",
      "<folium.vector_layers.CircleMarker object at 0x7f1f278b0320>\n",
      "<folium.vector_layers.CircleMarker object at 0x7f1f278b0358>\n",
      "<folium.vector_layers.CircleMarker object at 0x7f1f278b0390>\n",
      "<folium.vector_layers.CircleMarker object at 0x7f1f278b03c8>\n",
      "<folium.vector_layers.CircleMarker object at 0x7f1f278b0400>\n",
      "<folium.vector_layers.CircleMarker object at 0x7f1f278b0438>\n",
      "<folium.vector_layers.CircleMarker object at 0x7f1f278b0470>\n",
      "<folium.vector_layers.CircleMarker object at 0x7f1f278b04a8>\n",
      "<folium.vector_layers.CircleMarker object at 0x7f1f278b04e0>\n",
      "<folium.vector_layers.CircleMarker object at 0x7f1f278b0518>\n",
      "<folium.vector_layers.CircleMarker object at 0x7f1f278b0550>\n",
      "<folium.vector_layers.CircleMarker object at 0x7f1f278b0588>\n",
      "<folium.vector_layers.CircleMarker object at 0x7f1f278b05c0>\n",
      "<folium.vector_layers.CircleMarker object at 0x7f1f278b05f8>\n",
      "<folium.vector_layers.CircleMarker object at 0x7f1f278b0630>\n",
      "<folium.vector_layers.CircleMarker object at 0x7f1f278b0668>\n",
      "<folium.vector_layers.CircleMarker object at 0x7f1f278b06a0>\n",
      "<folium.vector_layers.CircleMarker object at 0x7f1f278b06d8>\n",
      "<folium.vector_layers.CircleMarker object at 0x7f1f278b0710>\n",
      "<folium.vector_layers.CircleMarker object at 0x7f1f278b0748>\n",
      "<folium.vector_layers.CircleMarker object at 0x7f1f278b0780>\n",
      "<folium.vector_layers.CircleMarker object at 0x7f1f278b07b8>\n",
      "<folium.vector_layers.CircleMarker object at 0x7f1f278b07f0>\n",
      "<folium.vector_layers.CircleMarker object at 0x7f1f278b0828>\n",
      "<folium.vector_layers.CircleMarker object at 0x7f1f278b0860>\n",
      "<folium.vector_layers.CircleMarker object at 0x7f1f278b0898>\n",
      "<folium.vector_layers.CircleMarker object at 0x7f1f278b08d0>\n",
      "<folium.vector_layers.CircleMarker object at 0x7f1f278b0908>\n",
      "<folium.vector_layers.CircleMarker object at 0x7f1f278b0940>\n",
      "<folium.vector_layers.CircleMarker object at 0x7f1f278b0978>\n",
      "<folium.vector_layers.CircleMarker object at 0x7f1f278b09b0>\n",
      "<folium.vector_layers.CircleMarker object at 0x7f1f278b09e8>\n",
      "<folium.vector_layers.CircleMarker object at 0x7f1f278b0a20>\n",
      "<folium.vector_layers.CircleMarker object at 0x7f1f278b0a58>\n",
      "<folium.vector_layers.CircleMarker object at 0x7f1f278b0a90>\n",
      "<folium.vector_layers.CircleMarker object at 0x7f1f278b0ac8>\n",
      "<folium.vector_layers.CircleMarker object at 0x7f1f278b0b00>\n",
      "<folium.vector_layers.CircleMarker object at 0x7f1f278b0b38>\n",
      "<folium.vector_layers.CircleMarker object at 0x7f1f278b0b70>\n",
      "<folium.vector_layers.CircleMarker object at 0x7f1f278b0ba8>\n",
      "<folium.vector_layers.CircleMarker object at 0x7f1f278b0be0>\n",
      "<folium.vector_layers.CircleMarker object at 0x7f1f278b0c18>\n",
      "<folium.vector_layers.CircleMarker object at 0x7f1f278b0c50>\n",
      "<folium.vector_layers.CircleMarker object at 0x7f1f278b0c88>\n",
      "<folium.vector_layers.CircleMarker object at 0x7f1f278b0cc0>\n",
      "<folium.vector_layers.CircleMarker object at 0x7f1f278b0cf8>\n",
      "<folium.vector_layers.CircleMarker object at 0x7f1f278b0d30>\n",
      "<folium.vector_layers.CircleMarker object at 0x7f1f278b0d68>\n",
      "<folium.vector_layers.CircleMarker object at 0x7f1f278b0da0>\n",
      "<folium.vector_layers.CircleMarker object at 0x7f1f278b0dd8>\n",
      "<folium.vector_layers.CircleMarker object at 0x7f1f278b0e10>\n",
      "<folium.vector_layers.CircleMarker object at 0x7f1f278b0e48>\n",
      "<folium.vector_layers.CircleMarker object at 0x7f1f278b0e80>\n",
      "<folium.vector_layers.CircleMarker object at 0x7f1f278b0eb8>\n",
      "<folium.vector_layers.CircleMarker object at 0x7f1f278b0ef0>\n",
      "<folium.vector_layers.CircleMarker object at 0x7f1f278b0f28>\n",
      "<folium.vector_layers.CircleMarker object at 0x7f1f278b0f60>\n",
      "<folium.vector_layers.CircleMarker object at 0x7f1f278b0f98>\n",
      "<folium.vector_layers.CircleMarker object at 0x7f1f278b0fd0>\n",
      "<folium.vector_layers.CircleMarker object at 0x7f1f278b0080>\n",
      "<folium.vector_layers.CircleMarker object at 0x7f1f278bc080>\n",
      "<folium.vector_layers.CircleMarker object at 0x7f1f278bc0b8>\n",
      "<folium.vector_layers.CircleMarker object at 0x7f1f278bc0f0>\n",
      "<folium.vector_layers.CircleMarker object at 0x7f1f278bc128>\n",
      "<folium.vector_layers.CircleMarker object at 0x7f1f278bc160>\n",
      "<folium.vector_layers.CircleMarker object at 0x7f1f278bc198>\n",
      "<folium.vector_layers.CircleMarker object at 0x7f1f278bc1d0>\n",
      "<folium.vector_layers.CircleMarker object at 0x7f1f278bc208>\n",
      "<folium.vector_layers.CircleMarker object at 0x7f1f278bc240>\n",
      "<folium.vector_layers.CircleMarker object at 0x7f1f278bc278>\n",
      "<folium.vector_layers.CircleMarker object at 0x7f1f278bc2b0>\n",
      "<folium.vector_layers.CircleMarker object at 0x7f1f278bc2e8>\n",
      "<folium.vector_layers.CircleMarker object at 0x7f1f278bc320>\n",
      "<folium.vector_layers.CircleMarker object at 0x7f1f278bc358>\n",
      "<folium.vector_layers.CircleMarker object at 0x7f1f278bc390>\n",
      "<folium.vector_layers.CircleMarker object at 0x7f1f278bc3c8>\n",
      "<folium.vector_layers.CircleMarker object at 0x7f1f278bc400>\n",
      "<folium.vector_layers.CircleMarker object at 0x7f1f278bc438>\n",
      "<folium.vector_layers.CircleMarker object at 0x7f1f278bc470>\n",
      "<folium.vector_layers.CircleMarker object at 0x7f1f278bc4a8>\n",
      "<folium.vector_layers.CircleMarker object at 0x7f1f278bc4e0>\n",
      "<folium.vector_layers.CircleMarker object at 0x7f1f278bc518>\n",
      "<folium.vector_layers.CircleMarker object at 0x7f1f278bc550>\n",
      "<folium.vector_layers.CircleMarker object at 0x7f1f278bc588>\n",
      "<folium.vector_layers.CircleMarker object at 0x7f1f278bc5c0>\n",
      "<folium.vector_layers.CircleMarker object at 0x7f1f278bc5f8>\n",
      "<folium.vector_layers.CircleMarker object at 0x7f1f278bc630>\n",
      "<folium.vector_layers.CircleMarker object at 0x7f1f278bc668>\n",
      "<folium.vector_layers.CircleMarker object at 0x7f1f278bc6a0>\n",
      "<folium.vector_layers.CircleMarker object at 0x7f1f278bc6d8>\n",
      "<folium.vector_layers.CircleMarker object at 0x7f1f278bc710>\n",
      "<folium.vector_layers.CircleMarker object at 0x7f1f278bc748>\n",
      "<folium.vector_layers.CircleMarker object at 0x7f1f278bc780>\n",
      "<folium.vector_layers.CircleMarker object at 0x7f1f278bc7b8>\n",
      "<folium.vector_layers.CircleMarker object at 0x7f1f278bc7f0>\n",
      "<folium.vector_layers.CircleMarker object at 0x7f1f278bc828>\n",
      "<folium.vector_layers.CircleMarker object at 0x7f1f278bc860>\n",
      "<folium.vector_layers.CircleMarker object at 0x7f1f278bc898>\n",
      "<folium.vector_layers.CircleMarker object at 0x7f1f278bc8d0>\n",
      "<folium.vector_layers.CircleMarker object at 0x7f1f278bc908>\n",
      "<folium.vector_layers.CircleMarker object at 0x7f1f278bc940>\n",
      "<folium.vector_layers.CircleMarker object at 0x7f1f278bc978>\n",
      "<folium.vector_layers.CircleMarker object at 0x7f1f278bc9b0>\n",
      "<folium.vector_layers.CircleMarker object at 0x7f1f278bc9e8>\n",
      "<folium.vector_layers.CircleMarker object at 0x7f1f278bca20>\n",
      "<folium.vector_layers.CircleMarker object at 0x7f1f278bca58>\n",
      "<folium.vector_layers.CircleMarker object at 0x7f1f278bca90>\n",
      "<folium.vector_layers.CircleMarker object at 0x7f1f278bcac8>\n",
      "<folium.vector_layers.CircleMarker object at 0x7f1f278bcb00>\n",
      "<folium.vector_layers.CircleMarker object at 0x7f1f278bcb38>\n",
      "<folium.vector_layers.CircleMarker object at 0x7f1f278bcb70>\n",
      "<folium.vector_layers.CircleMarker object at 0x7f1f278bcba8>\n",
      "<folium.vector_layers.CircleMarker object at 0x7f1f278bcbe0>\n",
      "<folium.vector_layers.CircleMarker object at 0x7f1f278bcc18>\n",
      "<folium.vector_layers.CircleMarker object at 0x7f1f278bcc50>\n",
      "<folium.vector_layers.CircleMarker object at 0x7f1f278bcc88>\n",
      "<folium.vector_layers.CircleMarker object at 0x7f1f278bccc0>\n",
      "<folium.vector_layers.CircleMarker object at 0x7f1f278bccf8>\n",
      "<folium.vector_layers.CircleMarker object at 0x7f1f278bcd30>\n",
      "<folium.vector_layers.CircleMarker object at 0x7f1f278bcd68>\n",
      "<folium.vector_layers.CircleMarker object at 0x7f1f278bcda0>\n",
      "<folium.vector_layers.CircleMarker object at 0x7f1f278bcdd8>\n",
      "<folium.vector_layers.CircleMarker object at 0x7f1f278bce10>\n",
      "<folium.vector_layers.CircleMarker object at 0x7f1f278bce48>\n",
      "<folium.vector_layers.CircleMarker object at 0x7f1f278bce80>\n",
      "<folium.vector_layers.CircleMarker object at 0x7f1f278bceb8>\n",
      "<folium.vector_layers.CircleMarker object at 0x7f1f278bcef0>\n",
      "<folium.vector_layers.CircleMarker object at 0x7f1f278bcf28>\n",
      "<folium.vector_layers.CircleMarker object at 0x7f1f278bcf60>\n",
      "<folium.vector_layers.CircleMarker object at 0x7f1f278bcf98>\n",
      "<folium.vector_layers.CircleMarker object at 0x7f1f278bcfd0>\n",
      "<folium.vector_layers.CircleMarker object at 0x7f1f278bc048>\n",
      "<folium.vector_layers.CircleMarker object at 0x7f1f278ca048>\n",
      "<folium.vector_layers.CircleMarker object at 0x7f1f278ca0b8>\n",
      "<folium.vector_layers.CircleMarker object at 0x7f1f278ca0f0>\n",
      "<folium.vector_layers.CircleMarker object at 0x7f1f278ca128>\n",
      "<folium.vector_layers.CircleMarker object at 0x7f1f278ca160>\n",
      "<folium.vector_layers.CircleMarker object at 0x7f1f278ca198>\n",
      "<folium.vector_layers.CircleMarker object at 0x7f1f278ca1d0>\n",
      "<folium.vector_layers.CircleMarker object at 0x7f1f278ca208>\n",
      "<folium.vector_layers.CircleMarker object at 0x7f1f278ca240>\n",
      "<folium.vector_layers.CircleMarker object at 0x7f1f278ca278>\n",
      "<folium.vector_layers.CircleMarker object at 0x7f1f278ca2b0>\n",
      "<folium.vector_layers.CircleMarker object at 0x7f1f278ca2e8>\n",
      "<folium.vector_layers.CircleMarker object at 0x7f1f278ca320>\n",
      "<folium.vector_layers.CircleMarker object at 0x7f1f278ca358>\n",
      "<folium.vector_layers.CircleMarker object at 0x7f1f278ca390>\n",
      "<folium.vector_layers.CircleMarker object at 0x7f1f278ca3c8>\n",
      "<folium.vector_layers.CircleMarker object at 0x7f1f278ca400>\n",
      "<folium.vector_layers.CircleMarker object at 0x7f1f278ca438>\n",
      "<folium.vector_layers.CircleMarker object at 0x7f1f278ca470>\n",
      "<folium.vector_layers.CircleMarker object at 0x7f1f278ca4a8>\n",
      "<folium.vector_layers.CircleMarker object at 0x7f1f278ca4e0>\n",
      "<folium.vector_layers.CircleMarker object at 0x7f1f278ca518>\n",
      "<folium.vector_layers.CircleMarker object at 0x7f1f278ca550>\n",
      "<folium.vector_layers.CircleMarker object at 0x7f1f278ca588>\n",
      "<folium.vector_layers.CircleMarker object at 0x7f1f278ca5c0>\n",
      "<folium.vector_layers.CircleMarker object at 0x7f1f278ca5f8>\n",
      "<folium.vector_layers.CircleMarker object at 0x7f1f278ca630>\n",
      "<folium.vector_layers.CircleMarker object at 0x7f1f278ca668>\n",
      "<folium.vector_layers.CircleMarker object at 0x7f1f278ca6a0>\n",
      "<folium.vector_layers.CircleMarker object at 0x7f1f278ca6d8>\n",
      "<folium.vector_layers.CircleMarker object at 0x7f1f278ca710>\n",
      "<folium.vector_layers.CircleMarker object at 0x7f1f278ca748>\n",
      "<folium.vector_layers.CircleMarker object at 0x7f1f278ca780>\n",
      "<folium.vector_layers.CircleMarker object at 0x7f1f278ca7b8>\n",
      "<folium.vector_layers.CircleMarker object at 0x7f1f278ca7f0>\n",
      "<folium.vector_layers.CircleMarker object at 0x7f1f278ca828>\n",
      "<folium.vector_layers.CircleMarker object at 0x7f1f278ca860>\n",
      "<folium.vector_layers.CircleMarker object at 0x7f1f278ca898>\n",
      "<folium.vector_layers.CircleMarker object at 0x7f1f278ca8d0>\n",
      "<folium.vector_layers.CircleMarker object at 0x7f1f278ca908>\n",
      "<folium.vector_layers.CircleMarker object at 0x7f1f278ca940>\n",
      "<folium.vector_layers.CircleMarker object at 0x7f1f278ca978>\n",
      "<folium.vector_layers.CircleMarker object at 0x7f1f278ca9b0>\n",
      "<folium.vector_layers.CircleMarker object at 0x7f1f278ca9e8>\n",
      "<folium.vector_layers.CircleMarker object at 0x7f1f278caa20>\n",
      "<folium.vector_layers.CircleMarker object at 0x7f1f278caa58>\n",
      "<folium.vector_layers.CircleMarker object at 0x7f1f278caa90>\n",
      "<folium.vector_layers.CircleMarker object at 0x7f1f278caac8>\n",
      "<folium.vector_layers.CircleMarker object at 0x7f1f278cab00>\n",
      "<folium.vector_layers.CircleMarker object at 0x7f1f278cab38>\n",
      "<folium.vector_layers.CircleMarker object at 0x7f1f278cab70>\n",
      "<folium.vector_layers.CircleMarker object at 0x7f1f278caba8>\n",
      "<folium.vector_layers.CircleMarker object at 0x7f1f278cabe0>\n",
      "<folium.vector_layers.CircleMarker object at 0x7f1f278cac18>\n",
      "<folium.vector_layers.CircleMarker object at 0x7f1f278cac50>\n",
      "<folium.vector_layers.CircleMarker object at 0x7f1f278cac88>\n",
      "<folium.vector_layers.CircleMarker object at 0x7f1f278cacc0>\n",
      "<folium.vector_layers.CircleMarker object at 0x7f1f278cacf8>\n",
      "<folium.vector_layers.CircleMarker object at 0x7f1f278cad30>\n",
      "<folium.vector_layers.CircleMarker object at 0x7f1f278cad68>\n",
      "<folium.vector_layers.CircleMarker object at 0x7f1f278cada0>\n",
      "<folium.vector_layers.CircleMarker object at 0x7f1f278cadd8>\n",
      "<folium.vector_layers.CircleMarker object at 0x7f1f278cae10>\n",
      "<folium.vector_layers.CircleMarker object at 0x7f1f278cae48>\n",
      "<folium.vector_layers.CircleMarker object at 0x7f1f278cae80>\n",
      "<folium.vector_layers.CircleMarker object at 0x7f1f278caeb8>\n",
      "<folium.vector_layers.CircleMarker object at 0x7f1f278caef0>\n",
      "<folium.vector_layers.CircleMarker object at 0x7f1f278caf28>\n",
      "<folium.vector_layers.CircleMarker object at 0x7f1f278caf60>\n",
      "<folium.vector_layers.CircleMarker object at 0x7f1f278caf98>\n",
      "<folium.vector_layers.CircleMarker object at 0x7f1f278cafd0>\n",
      "<folium.vector_layers.CircleMarker object at 0x7f1f278ca080>\n",
      "<folium.vector_layers.CircleMarker object at 0x7f1f278d8080>\n",
      "<folium.vector_layers.CircleMarker object at 0x7f1f278d80b8>\n",
      "<folium.vector_layers.CircleMarker object at 0x7f1f278d80f0>\n",
      "<folium.vector_layers.CircleMarker object at 0x7f1f278d8128>\n",
      "<folium.vector_layers.CircleMarker object at 0x7f1f278d8160>\n",
      "<folium.vector_layers.CircleMarker object at 0x7f1f278d8198>\n",
      "<folium.vector_layers.CircleMarker object at 0x7f1f278d81d0>\n",
      "<folium.vector_layers.CircleMarker object at 0x7f1f278d8208>\n",
      "<folium.vector_layers.CircleMarker object at 0x7f1f278d8240>\n",
      "<folium.vector_layers.CircleMarker object at 0x7f1f278d8278>\n",
      "<folium.vector_layers.CircleMarker object at 0x7f1f278d82b0>\n",
      "<folium.vector_layers.CircleMarker object at 0x7f1f278d82e8>\n",
      "<folium.vector_layers.CircleMarker object at 0x7f1f278d8320>\n",
      "<folium.vector_layers.CircleMarker object at 0x7f1f278d8358>\n",
      "<folium.vector_layers.CircleMarker object at 0x7f1f278d8390>\n",
      "<folium.vector_layers.CircleMarker object at 0x7f1f278d83c8>\n",
      "<folium.vector_layers.CircleMarker object at 0x7f1f278d8400>\n",
      "<folium.vector_layers.CircleMarker object at 0x7f1f278d8438>\n",
      "<folium.vector_layers.CircleMarker object at 0x7f1f278d8470>\n",
      "<folium.vector_layers.CircleMarker object at 0x7f1f278d84a8>\n",
      "<folium.vector_layers.CircleMarker object at 0x7f1f278d84e0>\n",
      "<folium.vector_layers.CircleMarker object at 0x7f1f278d8518>\n",
      "<folium.vector_layers.CircleMarker object at 0x7f1f278d8550>\n",
      "<folium.vector_layers.CircleMarker object at 0x7f1f278d8588>\n",
      "<folium.vector_layers.CircleMarker object at 0x7f1f278d85c0>\n",
      "<folium.vector_layers.CircleMarker object at 0x7f1f278d85f8>\n",
      "<folium.vector_layers.CircleMarker object at 0x7f1f278d8630>\n",
      "<folium.vector_layers.CircleMarker object at 0x7f1f278d8668>\n",
      "<folium.vector_layers.CircleMarker object at 0x7f1f278d86a0>\n",
      "<folium.vector_layers.CircleMarker object at 0x7f1f278d86d8>\n",
      "<folium.vector_layers.CircleMarker object at 0x7f1f278d8710>\n",
      "<folium.vector_layers.CircleMarker object at 0x7f1f278d8748>\n",
      "<folium.vector_layers.CircleMarker object at 0x7f1f278d8780>\n",
      "<folium.vector_layers.CircleMarker object at 0x7f1f278d87b8>\n",
      "<folium.vector_layers.CircleMarker object at 0x7f1f278d87f0>\n",
      "<folium.vector_layers.CircleMarker object at 0x7f1f278d8828>\n",
      "<folium.vector_layers.CircleMarker object at 0x7f1f278d8860>\n",
      "<folium.vector_layers.CircleMarker object at 0x7f1f278d8898>\n",
      "<folium.vector_layers.CircleMarker object at 0x7f1f278d88d0>\n",
      "<folium.vector_layers.CircleMarker object at 0x7f1f278d8908>\n",
      "<folium.vector_layers.CircleMarker object at 0x7f1f278d8940>\n",
      "<folium.vector_layers.CircleMarker object at 0x7f1f278d8978>\n",
      "<folium.vector_layers.CircleMarker object at 0x7f1f278d89b0>\n",
      "<folium.vector_layers.CircleMarker object at 0x7f1f278d89e8>\n",
      "<folium.vector_layers.CircleMarker object at 0x7f1f278d8a20>\n",
      "<folium.vector_layers.CircleMarker object at 0x7f1f278d8a58>\n",
      "<folium.vector_layers.CircleMarker object at 0x7f1f278d8a90>\n",
      "<folium.vector_layers.CircleMarker object at 0x7f1f278d8ac8>\n",
      "<folium.vector_layers.CircleMarker object at 0x7f1f278d8b00>\n",
      "<folium.vector_layers.CircleMarker object at 0x7f1f278d8b38>\n",
      "<folium.vector_layers.CircleMarker object at 0x7f1f278d8b70>\n",
      "<folium.vector_layers.CircleMarker object at 0x7f1f278d8ba8>\n",
      "<folium.vector_layers.CircleMarker object at 0x7f1f278d8be0>\n",
      "<folium.vector_layers.CircleMarker object at 0x7f1f278d8c18>\n",
      "<folium.vector_layers.CircleMarker object at 0x7f1f278d8c50>\n",
      "<folium.vector_layers.CircleMarker object at 0x7f1f278d8c88>\n",
      "<folium.vector_layers.CircleMarker object at 0x7f1f278d8cc0>\n",
      "<folium.vector_layers.CircleMarker object at 0x7f1f278d8cf8>\n",
      "<folium.vector_layers.CircleMarker object at 0x7f1f278d8d30>\n",
      "<folium.vector_layers.CircleMarker object at 0x7f1f278d8d68>\n",
      "<folium.vector_layers.CircleMarker object at 0x7f1f278d8da0>\n",
      "<folium.vector_layers.CircleMarker object at 0x7f1f278d8dd8>\n",
      "<folium.vector_layers.CircleMarker object at 0x7f1f278d8e10>\n",
      "<folium.vector_layers.CircleMarker object at 0x7f1f278d8e48>\n",
      "<folium.vector_layers.CircleMarker object at 0x7f1f278d8e80>\n",
      "<folium.vector_layers.CircleMarker object at 0x7f1f278d8eb8>\n",
      "<folium.vector_layers.CircleMarker object at 0x7f1f278d8ef0>\n",
      "<folium.vector_layers.CircleMarker object at 0x7f1f278d8f28>\n",
      "<folium.vector_layers.CircleMarker object at 0x7f1f278d8f60>\n",
      "<folium.vector_layers.CircleMarker object at 0x7f1f278d8f98>\n",
      "<folium.vector_layers.CircleMarker object at 0x7f1f278d8fd0>\n",
      "<folium.vector_layers.CircleMarker object at 0x7f1f278d8048>\n",
      "<folium.vector_layers.CircleMarker object at 0x7f1f27865080>\n",
      "<folium.vector_layers.CircleMarker object at 0x7f1f278650b8>\n",
      "<folium.vector_layers.CircleMarker object at 0x7f1f278650f0>\n",
      "<folium.vector_layers.CircleMarker object at 0x7f1f27865128>\n",
      "<folium.vector_layers.CircleMarker object at 0x7f1f27865160>\n",
      "<folium.vector_layers.CircleMarker object at 0x7f1f27865198>\n",
      "<folium.vector_layers.CircleMarker object at 0x7f1f278651d0>\n",
      "<folium.vector_layers.CircleMarker object at 0x7f1f27865208>\n",
      "<folium.vector_layers.CircleMarker object at 0x7f1f27865240>\n",
      "<folium.vector_layers.CircleMarker object at 0x7f1f27865278>\n",
      "<folium.vector_layers.CircleMarker object at 0x7f1f278652b0>\n",
      "<folium.vector_layers.CircleMarker object at 0x7f1f278652e8>\n",
      "<folium.vector_layers.CircleMarker object at 0x7f1f27865320>\n",
      "<folium.vector_layers.CircleMarker object at 0x7f1f27865358>\n",
      "<folium.vector_layers.CircleMarker object at 0x7f1f27865390>\n",
      "<folium.vector_layers.CircleMarker object at 0x7f1f278653c8>\n",
      "<folium.vector_layers.CircleMarker object at 0x7f1f27865400>\n",
      "<folium.vector_layers.CircleMarker object at 0x7f1f27865438>\n",
      "<folium.vector_layers.CircleMarker object at 0x7f1f27865470>\n",
      "<folium.vector_layers.CircleMarker object at 0x7f1f278654a8>\n",
      "<folium.vector_layers.CircleMarker object at 0x7f1f278654e0>\n",
      "<folium.vector_layers.CircleMarker object at 0x7f1f27865518>\n",
      "<folium.vector_layers.CircleMarker object at 0x7f1f27865550>\n",
      "<folium.vector_layers.CircleMarker object at 0x7f1f27865588>\n",
      "<folium.vector_layers.CircleMarker object at 0x7f1f278655c0>\n",
      "<folium.vector_layers.CircleMarker object at 0x7f1f278655f8>\n",
      "<folium.vector_layers.CircleMarker object at 0x7f1f27865630>\n",
      "<folium.vector_layers.CircleMarker object at 0x7f1f27865668>\n",
      "<folium.vector_layers.CircleMarker object at 0x7f1f278656a0>\n",
      "<folium.vector_layers.CircleMarker object at 0x7f1f278656d8>\n",
      "<folium.vector_layers.CircleMarker object at 0x7f1f27865710>\n",
      "<folium.vector_layers.CircleMarker object at 0x7f1f27865748>\n",
      "<folium.vector_layers.CircleMarker object at 0x7f1f27865780>\n",
      "<folium.vector_layers.CircleMarker object at 0x7f1f278657b8>\n",
      "<folium.vector_layers.CircleMarker object at 0x7f1f278657f0>\n",
      "<folium.vector_layers.CircleMarker object at 0x7f1f27865828>\n",
      "<folium.vector_layers.CircleMarker object at 0x7f1f27865860>\n",
      "<folium.vector_layers.CircleMarker object at 0x7f1f27865898>\n",
      "<folium.vector_layers.CircleMarker object at 0x7f1f278658d0>\n",
      "<folium.vector_layers.CircleMarker object at 0x7f1f27865908>\n",
      "<folium.vector_layers.CircleMarker object at 0x7f1f27865940>\n",
      "<folium.vector_layers.CircleMarker object at 0x7f1f27865978>\n",
      "<folium.vector_layers.CircleMarker object at 0x7f1f278659b0>\n",
      "<folium.vector_layers.CircleMarker object at 0x7f1f278659e8>\n",
      "<folium.vector_layers.CircleMarker object at 0x7f1f27865a20>\n",
      "<folium.vector_layers.CircleMarker object at 0x7f1f27865a58>\n",
      "<folium.vector_layers.CircleMarker object at 0x7f1f27865a90>\n",
      "<folium.vector_layers.CircleMarker object at 0x7f1f27865ac8>\n",
      "<folium.vector_layers.CircleMarker object at 0x7f1f27865b00>\n",
      "<folium.vector_layers.CircleMarker object at 0x7f1f27865b38>\n",
      "<folium.vector_layers.CircleMarker object at 0x7f1f27865b70>\n",
      "<folium.vector_layers.CircleMarker object at 0x7f1f27865ba8>\n",
      "<folium.vector_layers.CircleMarker object at 0x7f1f27865be0>\n",
      "<folium.vector_layers.CircleMarker object at 0x7f1f27865c18>\n",
      "<folium.vector_layers.CircleMarker object at 0x7f1f27865c50>\n",
      "<folium.vector_layers.CircleMarker object at 0x7f1f27865c88>\n",
      "<folium.vector_layers.CircleMarker object at 0x7f1f27865cc0>\n",
      "<folium.vector_layers.CircleMarker object at 0x7f1f27865cf8>\n",
      "<folium.vector_layers.CircleMarker object at 0x7f1f27865d30>\n",
      "<folium.vector_layers.CircleMarker object at 0x7f1f27865d68>\n",
      "<folium.vector_layers.CircleMarker object at 0x7f1f27865da0>\n",
      "<folium.vector_layers.CircleMarker object at 0x7f1f27865dd8>\n",
      "<folium.vector_layers.CircleMarker object at 0x7f1f27865e10>\n",
      "<folium.vector_layers.CircleMarker object at 0x7f1f27865e48>\n",
      "<folium.vector_layers.CircleMarker object at 0x7f1f27865e80>\n",
      "<folium.vector_layers.CircleMarker object at 0x7f1f27865eb8>\n",
      "<folium.vector_layers.CircleMarker object at 0x7f1f27865ef0>\n",
      "<folium.vector_layers.CircleMarker object at 0x7f1f27865f28>\n",
      "<folium.vector_layers.CircleMarker object at 0x7f1f27865f60>\n",
      "<folium.vector_layers.CircleMarker object at 0x7f1f27865f98>\n",
      "<folium.vector_layers.CircleMarker object at 0x7f1f27865fd0>\n",
      "<folium.vector_layers.CircleMarker object at 0x7f1f27865048>\n",
      "<folium.vector_layers.CircleMarker object at 0x7f1f27875080>\n",
      "<folium.vector_layers.CircleMarker object at 0x7f1f278750b8>\n",
      "<folium.vector_layers.CircleMarker object at 0x7f1f278750f0>\n",
      "<folium.vector_layers.CircleMarker object at 0x7f1f27875128>\n",
      "<folium.vector_layers.CircleMarker object at 0x7f1f27875160>\n",
      "<folium.vector_layers.CircleMarker object at 0x7f1f27875198>\n",
      "<folium.vector_layers.CircleMarker object at 0x7f1f278751d0>\n",
      "<folium.vector_layers.CircleMarker object at 0x7f1f27875208>\n",
      "<folium.vector_layers.CircleMarker object at 0x7f1f27875240>\n",
      "<folium.vector_layers.CircleMarker object at 0x7f1f27875278>\n",
      "<folium.vector_layers.CircleMarker object at 0x7f1f278752b0>\n",
      "<folium.vector_layers.CircleMarker object at 0x7f1f278752e8>\n",
      "<folium.vector_layers.CircleMarker object at 0x7f1f27875320>\n",
      "<folium.vector_layers.CircleMarker object at 0x7f1f27875358>\n",
      "<folium.vector_layers.CircleMarker object at 0x7f1f27875390>\n",
      "<folium.vector_layers.CircleMarker object at 0x7f1f278753c8>\n",
      "<folium.vector_layers.CircleMarker object at 0x7f1f27875400>\n",
      "<folium.vector_layers.CircleMarker object at 0x7f1f27875438>\n",
      "<folium.vector_layers.CircleMarker object at 0x7f1f27875470>\n",
      "<folium.vector_layers.CircleMarker object at 0x7f1f278754a8>\n",
      "<folium.vector_layers.CircleMarker object at 0x7f1f278754e0>\n",
      "<folium.vector_layers.CircleMarker object at 0x7f1f27875518>\n",
      "<folium.vector_layers.CircleMarker object at 0x7f1f27875550>\n",
      "<folium.vector_layers.CircleMarker object at 0x7f1f27875588>\n",
      "<folium.vector_layers.CircleMarker object at 0x7f1f278755c0>\n",
      "<folium.vector_layers.CircleMarker object at 0x7f1f278755f8>\n",
      "<folium.vector_layers.CircleMarker object at 0x7f1f27875630>\n",
      "<folium.vector_layers.CircleMarker object at 0x7f1f27875668>\n",
      "<folium.vector_layers.CircleMarker object at 0x7f1f278756a0>\n",
      "<folium.vector_layers.CircleMarker object at 0x7f1f278756d8>\n",
      "<folium.vector_layers.CircleMarker object at 0x7f1f27875710>\n",
      "<folium.vector_layers.CircleMarker object at 0x7f1f27875748>\n",
      "<folium.vector_layers.CircleMarker object at 0x7f1f27875780>\n",
      "<folium.vector_layers.CircleMarker object at 0x7f1f278757b8>\n",
      "<folium.vector_layers.CircleMarker object at 0x7f1f278757f0>\n",
      "<folium.vector_layers.CircleMarker object at 0x7f1f27875828>\n",
      "<folium.vector_layers.CircleMarker object at 0x7f1f27875860>\n",
      "<folium.vector_layers.CircleMarker object at 0x7f1f27875898>\n",
      "<folium.vector_layers.CircleMarker object at 0x7f1f278758d0>\n",
      "<folium.vector_layers.CircleMarker object at 0x7f1f27875908>\n",
      "<folium.vector_layers.CircleMarker object at 0x7f1f27875940>\n",
      "<folium.vector_layers.CircleMarker object at 0x7f1f27875978>\n",
      "<folium.vector_layers.CircleMarker object at 0x7f1f278759b0>\n",
      "<folium.vector_layers.CircleMarker object at 0x7f1f278759e8>\n",
      "<folium.vector_layers.CircleMarker object at 0x7f1f27875a20>\n",
      "<folium.vector_layers.CircleMarker object at 0x7f1f27875a58>\n",
      "<folium.vector_layers.CircleMarker object at 0x7f1f27875a90>\n",
      "<folium.vector_layers.CircleMarker object at 0x7f1f27875ac8>\n",
      "<folium.vector_layers.CircleMarker object at 0x7f1f27875b00>\n",
      "<folium.vector_layers.CircleMarker object at 0x7f1f27875b38>\n",
      "<folium.vector_layers.CircleMarker object at 0x7f1f27875b70>\n",
      "<folium.vector_layers.CircleMarker object at 0x7f1f27875ba8>\n",
      "<folium.vector_layers.CircleMarker object at 0x7f1f27875be0>\n",
      "<folium.vector_layers.CircleMarker object at 0x7f1f27875c18>\n",
      "<folium.vector_layers.CircleMarker object at 0x7f1f27875c50>\n",
      "<folium.vector_layers.CircleMarker object at 0x7f1f27875c88>\n",
      "<folium.vector_layers.CircleMarker object at 0x7f1f27875cc0>\n",
      "<folium.vector_layers.CircleMarker object at 0x7f1f27875cf8>\n",
      "<folium.vector_layers.CircleMarker object at 0x7f1f27875d30>\n",
      "<folium.vector_layers.CircleMarker object at 0x7f1f27875d68>\n",
      "<folium.vector_layers.CircleMarker object at 0x7f1f27875da0>\n",
      "<folium.vector_layers.CircleMarker object at 0x7f1f27875dd8>\n",
      "<folium.vector_layers.CircleMarker object at 0x7f1f27875e10>\n",
      "<folium.vector_layers.CircleMarker object at 0x7f1f27875e48>\n",
      "<folium.vector_layers.CircleMarker object at 0x7f1f27875e80>\n",
      "<folium.vector_layers.CircleMarker object at 0x7f1f27875eb8>\n",
      "<folium.vector_layers.CircleMarker object at 0x7f1f27875ef0>\n",
      "<folium.vector_layers.CircleMarker object at 0x7f1f27875f28>\n",
      "<folium.vector_layers.CircleMarker object at 0x7f1f27875f60>\n",
      "<folium.vector_layers.CircleMarker object at 0x7f1f27875f98>\n",
      "<folium.vector_layers.CircleMarker object at 0x7f1f27875fd0>\n",
      "<folium.vector_layers.CircleMarker object at 0x7f1f27875048>\n",
      "<folium.vector_layers.CircleMarker object at 0x7f1f27881080>\n",
      "<folium.vector_layers.CircleMarker object at 0x7f1f278810b8>\n",
      "<folium.vector_layers.CircleMarker object at 0x7f1f278810f0>\n",
      "<folium.vector_layers.CircleMarker object at 0x7f1f27881128>\n",
      "<folium.vector_layers.CircleMarker object at 0x7f1f27881160>\n",
      "<folium.vector_layers.CircleMarker object at 0x7f1f27881198>\n",
      "<folium.vector_layers.CircleMarker object at 0x7f1f278811d0>\n",
      "<folium.vector_layers.CircleMarker object at 0x7f1f27881208>\n",
      "<folium.vector_layers.CircleMarker object at 0x7f1f27881240>\n",
      "<folium.vector_layers.CircleMarker object at 0x7f1f27881278>\n",
      "<folium.vector_layers.CircleMarker object at 0x7f1f278812b0>\n",
      "<folium.vector_layers.CircleMarker object at 0x7f1f278812e8>\n",
      "<folium.vector_layers.CircleMarker object at 0x7f1f27881320>\n",
      "<folium.vector_layers.CircleMarker object at 0x7f1f27881358>\n",
      "<folium.vector_layers.CircleMarker object at 0x7f1f27881390>\n",
      "<folium.vector_layers.CircleMarker object at 0x7f1f278813c8>\n",
      "<folium.vector_layers.CircleMarker object at 0x7f1f27881400>\n",
      "<folium.vector_layers.CircleMarker object at 0x7f1f27881438>\n",
      "<folium.vector_layers.CircleMarker object at 0x7f1f27881470>\n",
      "<folium.vector_layers.CircleMarker object at 0x7f1f278814a8>\n",
      "<folium.vector_layers.CircleMarker object at 0x7f1f278814e0>\n",
      "<folium.vector_layers.CircleMarker object at 0x7f1f27881518>\n",
      "<folium.vector_layers.CircleMarker object at 0x7f1f27881550>\n",
      "<folium.vector_layers.CircleMarker object at 0x7f1f27881588>\n",
      "<folium.vector_layers.CircleMarker object at 0x7f1f278815c0>\n",
      "<folium.vector_layers.CircleMarker object at 0x7f1f278815f8>\n",
      "<folium.vector_layers.CircleMarker object at 0x7f1f27881630>\n",
      "<folium.vector_layers.CircleMarker object at 0x7f1f27881668>\n",
      "<folium.vector_layers.CircleMarker object at 0x7f1f278816a0>\n",
      "<folium.vector_layers.CircleMarker object at 0x7f1f278816d8>\n",
      "<folium.vector_layers.CircleMarker object at 0x7f1f27881710>\n",
      "<folium.vector_layers.CircleMarker object at 0x7f1f27881748>\n",
      "<folium.vector_layers.CircleMarker object at 0x7f1f27881780>\n",
      "<folium.vector_layers.CircleMarker object at 0x7f1f278817b8>\n",
      "<folium.vector_layers.CircleMarker object at 0x7f1f278817f0>\n",
      "<folium.vector_layers.CircleMarker object at 0x7f1f27881828>\n",
      "<folium.vector_layers.CircleMarker object at 0x7f1f27881860>\n",
      "<folium.vector_layers.CircleMarker object at 0x7f1f27881898>\n",
      "<folium.vector_layers.CircleMarker object at 0x7f1f278818d0>\n",
      "<folium.vector_layers.CircleMarker object at 0x7f1f27881908>\n",
      "<folium.vector_layers.CircleMarker object at 0x7f1f27881940>\n",
      "<folium.vector_layers.CircleMarker object at 0x7f1f27881978>\n",
      "<folium.vector_layers.CircleMarker object at 0x7f1f278819b0>\n",
      "<folium.vector_layers.CircleMarker object at 0x7f1f278819e8>\n",
      "<folium.vector_layers.CircleMarker object at 0x7f1f27881a20>\n",
      "<folium.vector_layers.CircleMarker object at 0x7f1f27881a58>\n",
      "<folium.vector_layers.CircleMarker object at 0x7f1f27881a90>\n",
      "<folium.vector_layers.CircleMarker object at 0x7f1f27881ac8>\n",
      "<folium.vector_layers.CircleMarker object at 0x7f1f27881b00>\n",
      "<folium.vector_layers.CircleMarker object at 0x7f1f27881b38>\n",
      "<folium.vector_layers.CircleMarker object at 0x7f1f27881b70>\n",
      "<folium.vector_layers.CircleMarker object at 0x7f1f27881ba8>\n",
      "<folium.vector_layers.CircleMarker object at 0x7f1f27881be0>\n",
      "<folium.vector_layers.CircleMarker object at 0x7f1f27881c18>\n",
      "<folium.vector_layers.CircleMarker object at 0x7f1f27881c50>\n",
      "<folium.vector_layers.CircleMarker object at 0x7f1f27881c88>\n",
      "<folium.vector_layers.CircleMarker object at 0x7f1f27881cc0>\n",
      "<folium.vector_layers.CircleMarker object at 0x7f1f27881cf8>\n",
      "<folium.vector_layers.CircleMarker object at 0x7f1f27881d30>\n",
      "<folium.vector_layers.CircleMarker object at 0x7f1f27881d68>\n",
      "<folium.vector_layers.CircleMarker object at 0x7f1f27881da0>\n",
      "<folium.vector_layers.CircleMarker object at 0x7f1f27881dd8>\n",
      "<folium.vector_layers.CircleMarker object at 0x7f1f27881e10>\n",
      "<folium.vector_layers.CircleMarker object at 0x7f1f27881e48>\n",
      "<folium.vector_layers.CircleMarker object at 0x7f1f27881e80>\n",
      "<folium.vector_layers.CircleMarker object at 0x7f1f27881eb8>\n",
      "<folium.vector_layers.CircleMarker object at 0x7f1f27881ef0>\n",
      "<folium.vector_layers.CircleMarker object at 0x7f1f27881f28>\n",
      "<folium.vector_layers.CircleMarker object at 0x7f1f27881f60>\n",
      "<folium.vector_layers.CircleMarker object at 0x7f1f27881f98>\n",
      "<folium.vector_layers.CircleMarker object at 0x7f1f27881fd0>\n",
      "<folium.vector_layers.CircleMarker object at 0x7f1f27881048>\n",
      "<folium.vector_layers.CircleMarker object at 0x7f1f27890080>\n",
      "<folium.vector_layers.CircleMarker object at 0x7f1f278900b8>\n",
      "<folium.vector_layers.CircleMarker object at 0x7f1f278900f0>\n",
      "<folium.vector_layers.CircleMarker object at 0x7f1f27890128>\n",
      "<folium.vector_layers.CircleMarker object at 0x7f1f27890160>\n",
      "<folium.vector_layers.CircleMarker object at 0x7f1f27890198>\n",
      "<folium.vector_layers.CircleMarker object at 0x7f1f278901d0>\n",
      "<folium.vector_layers.CircleMarker object at 0x7f1f27890208>\n",
      "<folium.vector_layers.CircleMarker object at 0x7f1f27890240>\n",
      "<folium.vector_layers.CircleMarker object at 0x7f1f27890278>\n",
      "<folium.vector_layers.CircleMarker object at 0x7f1f278902b0>\n",
      "<folium.vector_layers.CircleMarker object at 0x7f1f278902e8>\n",
      "<folium.vector_layers.CircleMarker object at 0x7f1f27890320>\n",
      "<folium.vector_layers.CircleMarker object at 0x7f1f27890358>\n",
      "<folium.vector_layers.CircleMarker object at 0x7f1f27890390>\n",
      "<folium.vector_layers.CircleMarker object at 0x7f1f278903c8>\n",
      "<folium.vector_layers.CircleMarker object at 0x7f1f27890400>\n",
      "<folium.vector_layers.CircleMarker object at 0x7f1f27890438>\n",
      "<folium.vector_layers.CircleMarker object at 0x7f1f27890470>\n",
      "<folium.vector_layers.CircleMarker object at 0x7f1f278904a8>\n",
      "<folium.vector_layers.CircleMarker object at 0x7f1f278904e0>\n",
      "<folium.vector_layers.CircleMarker object at 0x7f1f27890518>\n",
      "<folium.vector_layers.CircleMarker object at 0x7f1f27890550>\n",
      "<folium.vector_layers.CircleMarker object at 0x7f1f27890588>\n",
      "<folium.vector_layers.CircleMarker object at 0x7f1f278905c0>\n",
      "<folium.vector_layers.CircleMarker object at 0x7f1f278905f8>\n",
      "<folium.vector_layers.CircleMarker object at 0x7f1f27890630>\n",
      "<folium.vector_layers.CircleMarker object at 0x7f1f27890668>\n",
      "<folium.vector_layers.CircleMarker object at 0x7f1f278906a0>\n",
      "<folium.vector_layers.CircleMarker object at 0x7f1f278906d8>\n",
      "<folium.vector_layers.CircleMarker object at 0x7f1f27890710>\n",
      "<folium.vector_layers.CircleMarker object at 0x7f1f27890748>\n",
      "<folium.vector_layers.CircleMarker object at 0x7f1f27890780>\n",
      "<folium.vector_layers.CircleMarker object at 0x7f1f278907b8>\n",
      "<folium.vector_layers.CircleMarker object at 0x7f1f278907f0>\n",
      "<folium.vector_layers.CircleMarker object at 0x7f1f27890828>\n",
      "<folium.vector_layers.CircleMarker object at 0x7f1f27890860>\n",
      "<folium.vector_layers.CircleMarker object at 0x7f1f27890898>\n",
      "<folium.vector_layers.CircleMarker object at 0x7f1f278908d0>\n",
      "<folium.vector_layers.CircleMarker object at 0x7f1f27890908>\n",
      "<folium.vector_layers.CircleMarker object at 0x7f1f27890940>\n",
      "<folium.vector_layers.CircleMarker object at 0x7f1f27890978>\n",
      "<folium.vector_layers.CircleMarker object at 0x7f1f278909b0>\n",
      "<folium.vector_layers.CircleMarker object at 0x7f1f278909e8>\n",
      "<folium.vector_layers.CircleMarker object at 0x7f1f27890a20>\n",
      "<folium.vector_layers.CircleMarker object at 0x7f1f27890a58>\n",
      "<folium.vector_layers.CircleMarker object at 0x7f1f27890a90>\n",
      "<folium.vector_layers.CircleMarker object at 0x7f1f27890ac8>\n",
      "<folium.vector_layers.CircleMarker object at 0x7f1f27890b00>\n",
      "<folium.vector_layers.CircleMarker object at 0x7f1f27890b38>\n",
      "<folium.vector_layers.CircleMarker object at 0x7f1f27890b70>\n",
      "<folium.vector_layers.CircleMarker object at 0x7f1f27890ba8>\n",
      "<folium.vector_layers.CircleMarker object at 0x7f1f27890be0>\n",
      "<folium.vector_layers.CircleMarker object at 0x7f1f27890c18>\n",
      "<folium.vector_layers.CircleMarker object at 0x7f1f27890c50>\n",
      "<folium.vector_layers.CircleMarker object at 0x7f1f27890c88>\n",
      "<folium.vector_layers.CircleMarker object at 0x7f1f27890cc0>\n",
      "<folium.vector_layers.CircleMarker object at 0x7f1f27890cf8>\n",
      "<folium.vector_layers.CircleMarker object at 0x7f1f27890d30>\n",
      "<folium.vector_layers.CircleMarker object at 0x7f1f27890d68>\n",
      "<folium.vector_layers.CircleMarker object at 0x7f1f27890da0>\n",
      "<folium.vector_layers.CircleMarker object at 0x7f1f27890dd8>\n",
      "<folium.vector_layers.CircleMarker object at 0x7f1f27890e10>\n",
      "<folium.vector_layers.CircleMarker object at 0x7f1f27890e48>\n",
      "<folium.vector_layers.CircleMarker object at 0x7f1f27890e80>\n",
      "<folium.vector_layers.CircleMarker object at 0x7f1f27890eb8>\n",
      "<folium.vector_layers.CircleMarker object at 0x7f1f27890ef0>\n",
      "<folium.vector_layers.CircleMarker object at 0x7f1f27890f28>\n",
      "<folium.vector_layers.CircleMarker object at 0x7f1f27890f60>\n",
      "<folium.vector_layers.CircleMarker object at 0x7f1f27890f98>\n",
      "<folium.vector_layers.CircleMarker object at 0x7f1f27890fd0>\n",
      "<folium.vector_layers.CircleMarker object at 0x7f1f27890048>\n",
      "<folium.vector_layers.CircleMarker object at 0x7f1f2781c080>\n",
      "<folium.vector_layers.CircleMarker object at 0x7f1f2781c0b8>\n",
      "<folium.vector_layers.CircleMarker object at 0x7f1f2781c0f0>\n",
      "<folium.vector_layers.CircleMarker object at 0x7f1f2781c128>\n",
      "<folium.vector_layers.CircleMarker object at 0x7f1f2781c160>\n",
      "<folium.vector_layers.CircleMarker object at 0x7f1f2781c198>\n",
      "<folium.vector_layers.CircleMarker object at 0x7f1f2781c1d0>\n",
      "<folium.vector_layers.CircleMarker object at 0x7f1f2781c208>\n",
      "<folium.vector_layers.CircleMarker object at 0x7f1f2781c240>\n",
      "<folium.vector_layers.CircleMarker object at 0x7f1f2781c278>\n",
      "<folium.vector_layers.CircleMarker object at 0x7f1f2781c2b0>\n",
      "<folium.vector_layers.CircleMarker object at 0x7f1f2781c2e8>\n",
      "<folium.vector_layers.CircleMarker object at 0x7f1f2781c320>\n",
      "<folium.vector_layers.CircleMarker object at 0x7f1f2781c358>\n",
      "<folium.vector_layers.CircleMarker object at 0x7f1f2781c390>\n",
      "<folium.vector_layers.CircleMarker object at 0x7f1f2781c3c8>\n",
      "<folium.vector_layers.CircleMarker object at 0x7f1f2781c400>\n",
      "<folium.vector_layers.CircleMarker object at 0x7f1f2781c438>\n",
      "<folium.vector_layers.CircleMarker object at 0x7f1f2781c470>\n",
      "<folium.vector_layers.CircleMarker object at 0x7f1f2781c4a8>\n",
      "<folium.vector_layers.CircleMarker object at 0x7f1f2781c4e0>\n",
      "<folium.vector_layers.CircleMarker object at 0x7f1f2781c518>\n",
      "<folium.vector_layers.CircleMarker object at 0x7f1f2781c550>\n",
      "<folium.vector_layers.CircleMarker object at 0x7f1f2781c588>\n",
      "<folium.vector_layers.CircleMarker object at 0x7f1f2781c5c0>\n",
      "<folium.vector_layers.CircleMarker object at 0x7f1f2781c5f8>\n",
      "<folium.vector_layers.CircleMarker object at 0x7f1f2781c630>\n",
      "<folium.vector_layers.CircleMarker object at 0x7f1f2781c668>\n",
      "<folium.vector_layers.CircleMarker object at 0x7f1f2781c6a0>\n",
      "<folium.vector_layers.CircleMarker object at 0x7f1f2781c6d8>\n",
      "<folium.vector_layers.CircleMarker object at 0x7f1f2781c710>\n",
      "<folium.vector_layers.CircleMarker object at 0x7f1f2781c748>\n",
      "<folium.vector_layers.CircleMarker object at 0x7f1f2781c780>\n",
      "<folium.vector_layers.CircleMarker object at 0x7f1f2781c7b8>\n",
      "<folium.vector_layers.CircleMarker object at 0x7f1f2781c7f0>\n",
      "<folium.vector_layers.CircleMarker object at 0x7f1f2781c828>\n",
      "<folium.vector_layers.CircleMarker object at 0x7f1f2781c860>\n",
      "<folium.vector_layers.CircleMarker object at 0x7f1f2781c898>\n",
      "<folium.vector_layers.CircleMarker object at 0x7f1f2781c8d0>\n",
      "<folium.vector_layers.CircleMarker object at 0x7f1f2781c908>\n",
      "<folium.vector_layers.CircleMarker object at 0x7f1f2781c940>\n",
      "<folium.vector_layers.CircleMarker object at 0x7f1f2781c978>\n",
      "<folium.vector_layers.CircleMarker object at 0x7f1f2781c9b0>\n",
      "<folium.vector_layers.CircleMarker object at 0x7f1f2781c9e8>\n",
      "<folium.vector_layers.CircleMarker object at 0x7f1f2781ca20>\n",
      "<folium.vector_layers.CircleMarker object at 0x7f1f2781ca58>\n",
      "<folium.vector_layers.CircleMarker object at 0x7f1f2781ca90>\n",
      "<folium.vector_layers.CircleMarker object at 0x7f1f2781cac8>\n",
      "<folium.vector_layers.CircleMarker object at 0x7f1f2781cb00>\n",
      "<folium.vector_layers.CircleMarker object at 0x7f1f2781cb38>\n",
      "<folium.vector_layers.CircleMarker object at 0x7f1f2781cb70>\n",
      "<folium.vector_layers.CircleMarker object at 0x7f1f2781cba8>\n",
      "<folium.vector_layers.CircleMarker object at 0x7f1f2781cbe0>\n",
      "<folium.vector_layers.CircleMarker object at 0x7f1f2781cc18>\n",
      "<folium.vector_layers.CircleMarker object at 0x7f1f2781cc50>\n",
      "<folium.vector_layers.CircleMarker object at 0x7f1f2781cc88>\n",
      "<folium.vector_layers.CircleMarker object at 0x7f1f2781ccc0>\n",
      "<folium.vector_layers.CircleMarker object at 0x7f1f2781ccf8>\n",
      "<folium.vector_layers.CircleMarker object at 0x7f1f2781cd30>\n",
      "<folium.vector_layers.CircleMarker object at 0x7f1f2781cd68>\n",
      "<folium.vector_layers.CircleMarker object at 0x7f1f2781cda0>\n",
      "<folium.vector_layers.CircleMarker object at 0x7f1f2781cdd8>\n",
      "<folium.vector_layers.CircleMarker object at 0x7f1f2781ce10>\n",
      "<folium.vector_layers.CircleMarker object at 0x7f1f2781ce48>\n",
      "<folium.vector_layers.CircleMarker object at 0x7f1f2781ce80>\n",
      "<folium.vector_layers.CircleMarker object at 0x7f1f2781ceb8>\n",
      "<folium.vector_layers.CircleMarker object at 0x7f1f2781cef0>\n",
      "<folium.vector_layers.CircleMarker object at 0x7f1f2781cf28>\n",
      "<folium.vector_layers.CircleMarker object at 0x7f1f2781cf60>\n",
      "<folium.vector_layers.CircleMarker object at 0x7f1f2781cf98>\n",
      "<folium.vector_layers.CircleMarker object at 0x7f1f2781cfd0>\n",
      "<folium.vector_layers.CircleMarker object at 0x7f1f2781c048>\n",
      "<folium.vector_layers.CircleMarker object at 0x7f1f2782c080>\n",
      "<folium.vector_layers.CircleMarker object at 0x7f1f2782c0b8>\n",
      "<folium.vector_layers.CircleMarker object at 0x7f1f2782c0f0>\n",
      "<folium.vector_layers.CircleMarker object at 0x7f1f2782c128>\n",
      "<folium.vector_layers.CircleMarker object at 0x7f1f2782c160>\n",
      "<folium.vector_layers.CircleMarker object at 0x7f1f2782c198>\n",
      "<folium.vector_layers.CircleMarker object at 0x7f1f2782c1d0>\n",
      "<folium.vector_layers.CircleMarker object at 0x7f1f2782c208>\n",
      "<folium.vector_layers.CircleMarker object at 0x7f1f2782c240>\n",
      "<folium.vector_layers.CircleMarker object at 0x7f1f2782c278>\n",
      "<folium.vector_layers.CircleMarker object at 0x7f1f2782c2b0>\n",
      "<folium.vector_layers.CircleMarker object at 0x7f1f2782c2e8>\n",
      "<folium.vector_layers.CircleMarker object at 0x7f1f2782c320>\n",
      "<folium.vector_layers.CircleMarker object at 0x7f1f2782c358>\n",
      "<folium.vector_layers.CircleMarker object at 0x7f1f2782c390>\n",
      "<folium.vector_layers.CircleMarker object at 0x7f1f2782c3c8>\n",
      "<folium.vector_layers.CircleMarker object at 0x7f1f2782c400>\n",
      "<folium.vector_layers.CircleMarker object at 0x7f1f2782c438>\n",
      "<folium.vector_layers.CircleMarker object at 0x7f1f2782c470>\n",
      "<folium.vector_layers.CircleMarker object at 0x7f1f2782c4a8>\n",
      "<folium.vector_layers.CircleMarker object at 0x7f1f2782c4e0>\n",
      "<folium.vector_layers.CircleMarker object at 0x7f1f2782c518>\n",
      "<folium.vector_layers.CircleMarker object at 0x7f1f2782c550>\n",
      "<folium.vector_layers.CircleMarker object at 0x7f1f2782c588>\n",
      "<folium.vector_layers.CircleMarker object at 0x7f1f2782c5c0>\n",
      "<folium.vector_layers.CircleMarker object at 0x7f1f2782c5f8>\n",
      "<folium.vector_layers.CircleMarker object at 0x7f1f2782c630>\n",
      "<folium.vector_layers.CircleMarker object at 0x7f1f2782c668>\n",
      "<folium.vector_layers.CircleMarker object at 0x7f1f2782c6a0>\n",
      "<folium.vector_layers.CircleMarker object at 0x7f1f2782c6d8>\n",
      "<folium.vector_layers.CircleMarker object at 0x7f1f2782c710>\n",
      "<folium.vector_layers.CircleMarker object at 0x7f1f2782c748>\n",
      "<folium.vector_layers.CircleMarker object at 0x7f1f2782c780>\n",
      "<folium.vector_layers.CircleMarker object at 0x7f1f2782c7b8>\n",
      "<folium.vector_layers.CircleMarker object at 0x7f1f2782c7f0>\n",
      "<folium.vector_layers.CircleMarker object at 0x7f1f2782c828>\n",
      "<folium.vector_layers.CircleMarker object at 0x7f1f2782c860>\n",
      "<folium.vector_layers.CircleMarker object at 0x7f1f2782c898>\n",
      "<folium.vector_layers.CircleMarker object at 0x7f1f2782c8d0>\n",
      "<folium.vector_layers.CircleMarker object at 0x7f1f2782c908>\n",
      "<folium.vector_layers.CircleMarker object at 0x7f1f2782c940>\n",
      "<folium.vector_layers.CircleMarker object at 0x7f1f2782c978>\n",
      "<folium.vector_layers.CircleMarker object at 0x7f1f2782c9b0>\n",
      "<folium.vector_layers.CircleMarker object at 0x7f1f2782c9e8>\n",
      "<folium.vector_layers.CircleMarker object at 0x7f1f2782ca20>\n",
      "<folium.vector_layers.CircleMarker object at 0x7f1f2782ca58>\n",
      "<folium.vector_layers.CircleMarker object at 0x7f1f2782ca90>\n",
      "<folium.vector_layers.CircleMarker object at 0x7f1f2782cac8>\n",
      "<folium.vector_layers.CircleMarker object at 0x7f1f2782cb00>\n",
      "<folium.vector_layers.CircleMarker object at 0x7f1f2782cb38>\n",
      "<folium.vector_layers.CircleMarker object at 0x7f1f2782cb70>\n",
      "<folium.vector_layers.CircleMarker object at 0x7f1f2782cba8>\n",
      "<folium.vector_layers.CircleMarker object at 0x7f1f2782cbe0>\n",
      "<folium.vector_layers.CircleMarker object at 0x7f1f2782cc18>\n",
      "<folium.vector_layers.CircleMarker object at 0x7f1f2782cc50>\n",
      "<folium.vector_layers.CircleMarker object at 0x7f1f2782cc88>\n",
      "<folium.vector_layers.CircleMarker object at 0x7f1f2782ccc0>\n",
      "<folium.vector_layers.CircleMarker object at 0x7f1f2782ccf8>\n",
      "<folium.vector_layers.CircleMarker object at 0x7f1f2782cd30>\n",
      "<folium.vector_layers.CircleMarker object at 0x7f1f2782cd68>\n",
      "<folium.vector_layers.CircleMarker object at 0x7f1f2782cda0>\n",
      "<folium.vector_layers.CircleMarker object at 0x7f1f2782cdd8>\n",
      "<folium.vector_layers.CircleMarker object at 0x7f1f2782ce10>\n",
      "<folium.vector_layers.CircleMarker object at 0x7f1f2782ce48>\n",
      "<folium.vector_layers.CircleMarker object at 0x7f1f2782ce80>\n",
      "<folium.vector_layers.CircleMarker object at 0x7f1f2782ceb8>\n",
      "<folium.vector_layers.CircleMarker object at 0x7f1f2782cef0>\n",
      "<folium.vector_layers.CircleMarker object at 0x7f1f2782cf28>\n",
      "<folium.vector_layers.CircleMarker object at 0x7f1f2782cf60>\n",
      "<folium.vector_layers.CircleMarker object at 0x7f1f2782cf98>\n",
      "<folium.vector_layers.CircleMarker object at 0x7f1f2782cfd0>\n",
      "<folium.vector_layers.CircleMarker object at 0x7f1f2782c048>\n",
      "<folium.vector_layers.CircleMarker object at 0x7f1f27838080>\n",
      "<folium.vector_layers.CircleMarker object at 0x7f1f278380b8>\n",
      "<folium.vector_layers.CircleMarker object at 0x7f1f278380f0>\n",
      "<folium.vector_layers.CircleMarker object at 0x7f1f27838128>\n",
      "<folium.vector_layers.CircleMarker object at 0x7f1f27838160>\n",
      "<folium.vector_layers.CircleMarker object at 0x7f1f27838198>\n",
      "<folium.vector_layers.CircleMarker object at 0x7f1f278381d0>\n",
      "<folium.vector_layers.CircleMarker object at 0x7f1f27838208>\n",
      "<folium.vector_layers.CircleMarker object at 0x7f1f27838240>\n",
      "<folium.vector_layers.CircleMarker object at 0x7f1f27838278>\n",
      "<folium.vector_layers.CircleMarker object at 0x7f1f278382b0>\n",
      "<folium.vector_layers.CircleMarker object at 0x7f1f278382e8>\n",
      "<folium.vector_layers.CircleMarker object at 0x7f1f27838320>\n",
      "<folium.vector_layers.CircleMarker object at 0x7f1f27838358>\n",
      "<folium.vector_layers.CircleMarker object at 0x7f1f27838390>\n",
      "<folium.vector_layers.CircleMarker object at 0x7f1f278383c8>\n",
      "<folium.vector_layers.CircleMarker object at 0x7f1f27838400>\n",
      "<folium.vector_layers.CircleMarker object at 0x7f1f27838438>\n",
      "<folium.vector_layers.CircleMarker object at 0x7f1f27838470>\n",
      "<folium.vector_layers.CircleMarker object at 0x7f1f278384a8>\n",
      "<folium.vector_layers.CircleMarker object at 0x7f1f278384e0>\n",
      "<folium.vector_layers.CircleMarker object at 0x7f1f27838518>\n",
      "<folium.vector_layers.CircleMarker object at 0x7f1f27838550>\n",
      "<folium.vector_layers.CircleMarker object at 0x7f1f27838588>\n",
      "<folium.vector_layers.CircleMarker object at 0x7f1f278385c0>\n",
      "<folium.vector_layers.CircleMarker object at 0x7f1f278385f8>\n",
      "<folium.vector_layers.CircleMarker object at 0x7f1f27838630>\n",
      "<folium.vector_layers.CircleMarker object at 0x7f1f27838668>\n",
      "<folium.vector_layers.CircleMarker object at 0x7f1f278386a0>\n",
      "<folium.vector_layers.CircleMarker object at 0x7f1f278386d8>\n",
      "<folium.vector_layers.CircleMarker object at 0x7f1f27838710>\n",
      "<folium.vector_layers.CircleMarker object at 0x7f1f27838748>\n",
      "<folium.vector_layers.CircleMarker object at 0x7f1f27838780>\n",
      "<folium.vector_layers.CircleMarker object at 0x7f1f278387b8>\n",
      "<folium.vector_layers.CircleMarker object at 0x7f1f278387f0>\n",
      "<folium.vector_layers.CircleMarker object at 0x7f1f27838828>\n",
      "<folium.vector_layers.CircleMarker object at 0x7f1f27838860>\n",
      "<folium.vector_layers.CircleMarker object at 0x7f1f27838898>\n",
      "<folium.vector_layers.CircleMarker object at 0x7f1f278388d0>\n",
      "<folium.vector_layers.CircleMarker object at 0x7f1f27838908>\n"
     ]
    }
   ],
   "source": [
    "map_with_markers = add_markers(trip_markers, manhattan_map)"
   ]
  },
  {
   "cell_type": "code",
   "execution_count": null,
   "metadata": {},
   "outputs": [],
   "source": [
    "map_with_markers"
   ]
  },
  {
   "cell_type": "markdown",
   "metadata": {},
   "source": [
    "### Using Nearest Neighbors"
   ]
  },
  {
   "cell_type": "markdown",
   "metadata": {},
   "source": [
    "Ok, let's write a function that given a latitude and longitude will predict the distance for us.  We'll do this by first finding the nearest trips given a latitude and longitude. "
   ]
  },
  {
   "cell_type": "markdown",
   "metadata": {},
   "source": [
    "Here we once again apply the nearest neighbors formula. As a first step, write a function named `distance_location` that calculates the distance in pickup location between two trips."
   ]
  },
  {
   "cell_type": "code",
   "execution_count": null,
   "metadata": {},
   "outputs": [],
   "source": [
    "import math\n",
    "\n",
    "def distance_location(selected_trip, neighbor_trip):\n",
    "    pass"
   ]
  },
  {
   "cell_type": "code",
   "execution_count": null,
   "metadata": {},
   "outputs": [],
   "source": [
    "first_trip = {'pickup_latitude': 40.64499, 'pickup_longitude': -73.78115, 'trip_distance': 18.38}\n",
    "second_trip = {'pickup_latitude': 40.766931, 'pickup_longitude': -73.982098, 'trip_distance': 1.3}\n",
    "distance_first_and_second = distance_location(first_trip, second_trip)\n",
    "\n",
    "distance_first_and_second and round(distance_first_and_second, 3) # 0.235"
   ]
  },
  {
   "cell_type": "markdown",
   "metadata": {},
   "source": [
    "Ok, next write a function called `distance_between_neighbors` that adds a new key-value pair, called `distance_from_selected`, that calculates the distance of the `neighbor_trip` from the `selected_trip`."
   ]
  },
  {
   "cell_type": "code",
   "execution_count": null,
   "metadata": {},
   "outputs": [],
   "source": [
    "def distance_between_neighbors(selected_trip, neighbor_trip):\n",
    "    pass"
   ]
  },
  {
   "cell_type": "code",
   "execution_count": null,
   "metadata": {},
   "outputs": [],
   "source": [
    "distance_between_neighbors(first_trip, second_trip)\n",
    "\n",
    "# {'distance_from_selected': 0.23505256047318146,\n",
    "#  'pickup_latitude': 40.766931,\n",
    "#  'pickup_longitude': -73.982098,\n",
    "#  'trip_distance': 1.3}"
   ]
  },
  {
   "cell_type": "markdown",
   "metadata": {},
   "source": [
    "Ok, now our `neighbor_trip` has another attribute called `distance_from_selected`, that indicates the distance from the `neighbor_trip`'s pickup location from the `selected_trip`."
   ]
  },
  {
   "cell_type": "markdown",
   "metadata": {},
   "source": [
    "> ** Understand the data:** Our dictionary now has a few attributes, two of which say distance.  Let's make sure we understand the difference. \n",
    "> * **`distance_from_selected`:** This is our calculation of the distance of the neighbor's pickup location from the selected trip.\n",
    "> * **`trip_distance`:** This is the attribute we were provided initially.  It tells us the length of the neighbor's taxi trip from pickup to drop-off.  "
   ]
  },
  {
   "cell_type": "markdown",
   "metadata": {},
   "source": [
    "Next, write a function called `distance_all` that provided a list of neighbors, returns each of those neighbors with their respective `distance_from_selected` numbers."
   ]
  },
  {
   "cell_type": "code",
   "execution_count": null,
   "metadata": {},
   "outputs": [],
   "source": [
    "def distance_all(selected_individual, neighbors):\n",
    "    pass"
   ]
  },
  {
   "cell_type": "code",
   "execution_count": null,
   "metadata": {},
   "outputs": [],
   "source": [
    "cleaned_trips and distance_all(first_trip, cleaned_trips[0:4])"
   ]
  },
  {
   "cell_type": "markdown",
   "metadata": {},
   "source": [
    "Now write the nearest neighbors formula to calculate the distance of the `selected_trip` from all of the `cleaned_trips` in our dataset.  If no number is provided, it should return the top 3 neighbors."
   ]
  },
  {
   "cell_type": "code",
   "execution_count": null,
   "metadata": {},
   "outputs": [],
   "source": [
    "def nearest_neighbors(selected_trip, trips, number = 3):\n",
    "    pass"
   ]
  },
  {
   "cell_type": "code",
   "execution_count": null,
   "metadata": {},
   "outputs": [],
   "source": [
    "new_trip = {'pickup_latitude': 40.64499,\n",
    "'pickup_longitude': -73.78115,\n",
    "'trip_distance': 18.38}\n",
    "\n",
    "nearest_three_neighbors = nearest_neighbors(new_trip, cleaned_trips or [], number = 3)\n",
    "nearest_three_neighbors\n",
    "# [{'distance_from_selected': 0.0004569288784918792,\n",
    "#   'pickup_latitude': 40.64483,\n",
    "#   'pickup_longitude': -73.781578,\n",
    "#   'trip_distance': 7.78},\n",
    "#  {'distance_from_selected': 0.0011292165425673159,\n",
    "#   'pickup_latitude': 40.644657,\n",
    "#   'pickup_longitude': -73.782229,\n",
    "#   'trip_distance': 12.7},\n",
    "#  {'distance_from_selected': 0.0042359798158141185,\n",
    "#   'pickup_latitude': 40.648509,\n",
    "#   'pickup_longitude': -73.783508,\n",
    "#   'trip_distance': 17.3}]"
   ]
  },
  {
   "cell_type": "markdown",
   "metadata": {},
   "source": [
    "Ok great! Now that we can provide a new trip location, and find the distances of the three nearest trips, we can take  calculate an estimate of the trip distance for that new trip location.  \n",
    "\n",
    "We do so simply by calculating the average of it's nearest neighbors."
   ]
  },
  {
   "cell_type": "code",
   "execution_count": null,
   "metadata": {},
   "outputs": [],
   "source": [
    "import statistics\n",
    "def mean_distance(neighbors):\n",
    "    nearest_distances = list(map(lambda neighbor: neighbor['trip_distance'], neighbors))\n",
    "    return round(statistics.mean(nearest_distances), 3)\n",
    "\n",
    "nearest_three_neighbors = nearest_neighbors(new_trip, cleaned_trips or [], number = 3)\n",
    "distance_estimate_of_selected_trip = mean_distance(nearest_three_neighbors) # 12.593\n",
    "distance_estimate_of_selected_trip"
   ]
  },
  {
   "cell_type": "markdown",
   "metadata": {},
   "source": [
    "### Choosing the correct number of neighbors"
   ]
  },
  {
   "cell_type": "markdown",
   "metadata": {},
   "source": [
    "Now, as we know from the last lesson, one tricky element is to determine how many neighbors to choose, our $k$ value,  before calculating the average.  We want to choose our value of $k$ such that it properly matches actual data, and so that it applies to new data.  There are fancy formulas to ensure that we **train** our algorithm so that our formula is optimized for all data, but here let's see different $k$ values manually.  This is the gist of choosing our $k$ value:\n",
    "\n",
    "* If we choose a $k$ value too low, our formula will be too heavily influenced by a single neighbor, whereas if our $k$ value is too high, we will be choosing so many neighbors that our nearest neighbors formula will not be adjust enough according to locations.\n",
    "\n",
    "Ok, let's experiment with this."
   ]
  },
  {
   "cell_type": "markdown",
   "metadata": {},
   "source": [
    "First, let's choose a midtown location, to see what the trip distance would be.  A Google search reveals the coordinates of 51st and 7th avenue to be the following."
   ]
  },
  {
   "cell_type": "code",
   "execution_count": null,
   "metadata": {},
   "outputs": [],
   "source": [
    "midtown_trip = dict(pickup_latitude=40.761710, pickup_longitude=-73.982760)"
   ]
  },
  {
   "cell_type": "code",
   "execution_count": null,
   "metadata": {},
   "outputs": [],
   "source": [
    "seven_closest = nearest_neighbors(midtown_trip, cleaned_trips, number = 7)\n",
    "seven_closest\n",
    "# [{'trip_distance': 0.58,\n",
    "#   'pickup_latitude': 40.761372,\n",
    "#   'pickup_longitude': -73.982602,\n",
    "#   'distance_from_selected': 0.00037310588309379025},\n",
    "#  {'trip_distance': 0.8,\n",
    "#   'pickup_latitude': 40.762444,\n",
    "#   'pickup_longitude': -73.98244,\n",
    "#   'distance_from_selected': 0.00080072217404248},\n",
    "#  {'trip_distance': 1.4,\n",
    "#   'pickup_latitude': 40.762767,\n",
    "#   'pickup_longitude': -73.982293,\n",
    "#   'distance_from_selected': 0.0011555682584735844},\n",
    "#  {'trip_distance': 8.3,\n",
    "#   'pickup_latitude': 40.762868,\n",
    "#   'pickup_longitude': -73.983233,\n",
    "#   'distance_from_selected': 0.0012508768924205918},\n",
    "#  {'trip_distance': 1.26,\n",
    "#   'pickup_latitude': 40.760057,\n",
    "#   'pickup_longitude': -73.983502,\n",
    "#   'distance_from_selected': 0.0018118976240381972},\n",
    "#  {'trip_distance': 0.0,\n",
    "#   'pickup_latitude': 40.760644,\n",
    "#   'pickup_longitude': -73.984531,\n",
    "#   'distance_from_selected': 0.002067074502774709},\n",
    "#  {'trip_distance': 1.72,\n",
    "#   'pickup_latitude': 40.762107,\n",
    "#   'pickup_longitude': -73.98479,\n",
    "#   'distance_from_selected': 0.0020684557041472677}]"
   ]
  },
  {
   "cell_type": "markdown",
   "metadata": {},
   "source": [
    "Looking at the `distance_from_selected` it appears that our our trips are still fairly close to our selected trip.  Notice that most of the data is within a distance of .002 away, so going to the top 7 nearest neighbors didn't seem to give us neighbors too far from each other, which is a good sign.\n",
    "\n",
    "Still, it's hard to know what distance in latitude and longitude really look like, so let's map the data. "
   ]
  },
  {
   "cell_type": "code",
   "execution_count": null,
   "metadata": {},
   "outputs": [],
   "source": [
    "midtown_location = location(midtown_trip) # [40.76171, -73.98276]\n",
    "midtown_map = map_from(midtown_location, 16)\n",
    "closest_markers = markers_from_trips(seven_closest)\n",
    "\n",
    "add_markers(closest_markers, midtown_map)"
   ]
  },
  {
   "cell_type": "markdown",
   "metadata": {},
   "source": [
    "Ok.  These locations stay fairly close to our estimated location of 51st street and 7th Avenue.  So they could be a good estimate of a trip distance."
   ]
  },
  {
   "cell_type": "code",
   "execution_count": null,
   "metadata": {},
   "outputs": [],
   "source": [
    "mean_distance(seven_closest) # 2.009"
   ]
  },
  {
   "cell_type": "markdown",
   "metadata": {},
   "source": [
    "Ok, now let's try a different location"
   ]
  },
  {
   "cell_type": "code",
   "execution_count": null,
   "metadata": {},
   "outputs": [],
   "source": [
    "charging_bull_closest = nearest_neighbors({'pickup_latitude': 40.7049, 'pickup_longitude': -74.0137}, cleaned_trips, number = 12)"
   ]
  },
  {
   "cell_type": "code",
   "execution_count": null,
   "metadata": {
    "scrolled": true
   },
   "outputs": [],
   "source": [
    "mean_distance(charging_bull_closest) # 3.145"
   ]
  },
  {
   "cell_type": "markdown",
   "metadata": {},
   "source": [
    "Ok, so there appears to be a significant difference between choosing a location near Times Square versus choosing a location at Wall Street."
   ]
  },
  {
   "cell_type": "markdown",
   "metadata": {},
   "source": [
    "### Summary"
   ]
  },
  {
   "cell_type": "markdown",
   "metadata": {},
   "source": [
    "In this lab, we used the nearest neighbors function to predict the length of a taxi ride.  To do so, we selected a location, then found a number of taxi rides closest to that location, and finally took the average trip lengths of the nearest taxi rides to find an estimate of the new ride's trip length.  You can see that even with just a little bit of math and programming we can begin to make meaningful predictions with data."
   ]
  }
 ],
 "metadata": {
  "kernelspec": {
   "display_name": "Python 3",
   "language": "python",
   "name": "python3"
  },
  "language_info": {
   "codemirror_mode": {
    "name": "ipython",
    "version": 3
   },
   "file_extension": ".py",
   "mimetype": "text/x-python",
   "name": "python",
   "nbconvert_exporter": "python",
   "pygments_lexer": "ipython3",
   "version": "3.6.9"
  }
 },
 "nbformat": 4,
 "nbformat_minor": 2
}
